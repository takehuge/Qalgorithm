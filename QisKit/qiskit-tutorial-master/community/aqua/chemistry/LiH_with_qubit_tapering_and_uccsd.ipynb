{
 "cells": [
  {
   "cell_type": "code",
   "execution_count": 1,
   "metadata": {},
   "outputs": [],
   "source": [
    "# import common packages\n",
    "from collections import OrderedDict\n",
    "import itertools\n",
    "import logging\n",
    "\n",
    "import numpy as np\n",
    "import scipy\n",
    "\n",
    "from qiskit_aqua import (get_algorithm_instance, get_optimizer_instance, \n",
    "                        get_variational_form_instance, get_initial_state_instance, Operator)\n",
    "from qiskit_aqua._logging import build_logging_config, set_logging_config\n",
    "from qiskit_aqua_chemistry.drivers import ConfigurationManager\n",
    "from qiskit_aqua_chemistry.core import get_chemistry_operator_instance\n",
    "\n",
    "# set_logging_config(build_logging_config(logging.INFO))"
   ]
  },
  {
   "cell_type": "code",
   "execution_count": 2,
   "metadata": {
    "collapsed": true
   },
   "outputs": [],
   "source": [
    "# using driver to get fermionic Hamiltonian\n",
    "cfg_mgr = ConfigurationManager()\n",
    "pyscf_cfg = OrderedDict([('atom', 'Li .0 .0 .0; H .0 .0 1.6'), \n",
    "                         ('unit', 'Angstrom'), ('charge', 0), \n",
    "                         ('spin', 0), ('basis', 'sto3g')])\n",
    "section = {}\n",
    "section['properties'] = pyscf_cfg\n",
    "driver = cfg_mgr.get_driver_instance('PYSCF')\n",
    "molecule = driver.run(section)"
   ]
  },
  {
   "cell_type": "code",
   "execution_count": 3,
   "metadata": {},
   "outputs": [
    {
     "name": "stdout",
     "output_type": "stream",
     "text": [
      "Originally requires 8 qubits\n",
      "Representation: paulis, qubits: 8, size: 276\n"
     ]
    }
   ],
   "source": [
    "core = get_chemistry_operator_instance('hamiltonian')\n",
    "hamiltonian_cfg = OrderedDict([\n",
    "    ('name', 'hamiltonian'),\n",
    "    ('transformation', 'full'),\n",
    "    ('qubit_mapping', 'parity'),\n",
    "    ('two_qubit_reduction', True),\n",
    "    ('freeze_core', True),\n",
    "    ('orbital_reduction', [])\n",
    "])\n",
    "core.init_params(hamiltonian_cfg)\n",
    "algo_input = core.run(molecule)\n",
    "qubit_op = algo_input.qubit_op\n",
    "\n",
    "print(\"Originally requires {} qubits\".format(qubit_op.num_qubits))\n",
    "print(qubit_op)"
   ]
  },
  {
   "cell_type": "markdown",
   "metadata": {},
   "source": [
    "Find the symmetries of the qubit operator"
   ]
  },
  {
   "cell_type": "code",
   "execution_count": 4,
   "metadata": {},
   "outputs": [
    {
     "name": "stdout",
     "output_type": "stream",
     "text": [
      "Z2 symmetries found:\n",
      "IZIZIZIZ\n",
      "IIZZIIZZ\n",
      "single qubit operators found:\n",
      "IXIIIIII\n",
      "IIXIIIII\n",
      "cliffords found:\n",
      "IZIZIZIZ\t0.7071067811865475\n",
      "IXIIIIII\t0.7071067811865475\n",
      "\n",
      "IIZZIIZZ\t0.7071067811865475\n",
      "IIXIIIII\t0.7071067811865475\n",
      "\n",
      "single-qubit list: [1, 2]\n"
     ]
    }
   ],
   "source": [
    "[symmetries, sq_paulis, cliffords, sq_list] = qubit_op.find_Z2_symmetries()\n",
    "print('Z2 symmetries found:')\n",
    "for symm in symmetries:\n",
    "    print(symm.to_label())\n",
    "print('single qubit operators found:')\n",
    "for sq in sq_paulis:\n",
    "    print(sq.to_label())\n",
    "print('cliffords found:')\n",
    "for clifford in cliffords:\n",
    "    print(clifford.print_operators())\n",
    "print('single-qubit list: {}'.format(sq_list))"
   ]
  },
  {
   "cell_type": "markdown",
   "metadata": {},
   "source": [
    "Use the found symmetries, single qubit operators, and cliffords to taper qubits from the original qubit operator. For each Z2 symmetry one can taper one qubit. However, different tapered operators can be built, corresponding to different symmetry sectors. "
   ]
  },
  {
   "cell_type": "code",
   "execution_count": 5,
   "metadata": {},
   "outputs": [
    {
     "name": "stdout",
     "output_type": "stream",
     "text": [
      "Number of qubits of tapered qubit operator: 6\n",
      "Number of qubits of tapered qubit operator: 6\n",
      "Number of qubits of tapered qubit operator: 6\n",
      "Number of qubits of tapered qubit operator: 6\n"
     ]
    }
   ],
   "source": [
    "tapered_ops = []\n",
    "for coeff in itertools.product([1, -1], repeat=len(sq_list)):\n",
    "    tapered_op = Operator.qubit_tapering(qubit_op, cliffords, sq_list, list(coeff))\n",
    "    tapered_ops.append((list(coeff), tapered_op))\n",
    "    print(\"Number of qubits of tapered qubit operator: {}\".format(tapered_op.num_qubits))"
   ]
  },
  {
   "cell_type": "markdown",
   "metadata": {},
   "source": [
    "The user has to specify the symmetry sector he is interested in. Since we are interested in finding the ground state here, let us get the original ground state energy as a reference."
   ]
  },
  {
   "cell_type": "code",
   "execution_count": 6,
   "metadata": {
    "scrolled": true
   },
   "outputs": [
    {
     "name": "stdout",
     "output_type": "stream",
     "text": [
      "=== GROUND STATE ENERGY ===\n",
      " \n",
      "* Electronic ground state energy (Hartree): -8.874303870396\n",
      "  - computed part:      -1.078084301625\n",
      "  - frozen energy part: -7.796219568771\n",
      "  - particle hole part: 0.0\n",
      "~ Nuclear repulsion energy (Hartree): 0.992207270475\n",
      "> Total ground state energy (Hartree): -7.882096599921\n"
     ]
    }
   ],
   "source": [
    "ee = get_algorithm_instance('ExactEigensolver')\n",
    "ee.init_args(qubit_op, k=1)\n",
    "result = core.process_algorithm_result(ee.run())\n",
    "for line in result[0]:\n",
    "    print(line)"
   ]
  },
  {
   "cell_type": "markdown",
   "metadata": {},
   "source": [
    "Now, let us iterate through all tapered qubit operators to find out the one whose ground state energy matches the original (un-tapered) one."
   ]
  },
  {
   "cell_type": "code",
   "execution_count": 7,
   "metadata": {},
   "outputs": [
    {
     "name": "stdout",
     "output_type": "stream",
     "text": [
      "Lowest eigenvalue of the 0-th tapered operator (computed part) is -1.078084301625\n",
      "Lowest eigenvalue of the 1-th tapered operator (computed part) is -0.509523578167\n",
      "Lowest eigenvalue of the 2-th tapered operator (computed part) is -0.912078232998\n",
      "Lowest eigenvalue of the 3-th tapered operator (computed part) is -0.912078232998\n",
      "The 0-th tapered operator matches original ground state energy, with corresponding symmetry sector of [1, 1]\n"
     ]
    }
   ],
   "source": [
    "smallest_eig_value = 99999999999999\n",
    "smallest_idx = -1\n",
    "for idx in range(len(tapered_ops)):\n",
    "    ee.init_args(tapered_ops[idx][1], k=1)\n",
    "    curr_value = ee.run()['energy']\n",
    "    if curr_value < smallest_eig_value:\n",
    "        smallest_eig_value = curr_value\n",
    "        smallest_idx = idx\n",
    "    print(\"Lowest eigenvalue of the {}-th tapered operator (computed part) is {:.12f}\".format(idx, curr_value))\n",
    "    \n",
    "the_tapered_op = tapered_ops[smallest_idx][1]\n",
    "the_coeff = tapered_ops[smallest_idx][0]\n",
    "print(\"The {}-th tapered operator matches original ground state energy, with corresponding symmetry sector of {}\".format(smallest_idx, the_coeff))"
   ]
  },
  {
   "cell_type": "markdown",
   "metadata": {},
   "source": [
    "Alternatively, one can run multiple VQE instances to find the lowest eigenvalue sector. \n",
    "Here we just validate that `the_tapered_op` reach the smallest eigenvalue in one VQE execution with the UCCSD variational form, modified to take into account of the tapered symmetries."
   ]
  },
  {
   "cell_type": "code",
   "execution_count": 8,
   "metadata": {},
   "outputs": [],
   "source": [
    "# setup initial state\n",
    "init_state = get_initial_state_instance('HartreeFock')\n",
    "init_state.init_args(num_qubits=the_tapered_op.num_qubits, num_orbitals=core._molecule_info['num_orbitals'],\n",
    "                    qubit_mapping=core._qubit_mapping, two_qubit_reduction=core._two_qubit_reduction,\n",
    "                    num_particles=core._molecule_info['num_particles'], sq_list=sq_list)\n",
    "\n",
    "# setup variationl form\n",
    "var_form = get_variational_form_instance('UCCSD')\n",
    "var_form.init_args(num_qubits=the_tapered_op.num_qubits, depth=1,\n",
    "                   num_orbitals=core._molecule_info['num_orbitals'], \n",
    "                   num_particles=core._molecule_info['num_particles'],\n",
    "                   active_occupied=None, active_unoccupied=None, initial_state=init_state,\n",
    "                   qubit_mapping=core._qubit_mapping, two_qubit_reduction=core._two_qubit_reduction, \n",
    "                   num_time_slices=1,\n",
    "                   cliffords=cliffords, sq_list=sq_list, tapering_values=the_coeff, symmetries=symmetries)\n",
    "\n",
    "# setup optimizer\n",
    "optimizer = get_optimizer_instance('COBYLA')\n",
    "optimizer.init_args()\n",
    "optimizer.set_options(maxiter=1000)\n",
    "\n",
    "# set vqe\n",
    "algo = get_algorithm_instance('VQE')\n",
    "algo.setup_quantum_backend(backend='statevector_simulator')\n",
    "algo.init_args(the_tapered_op, 'matrix', var_form, optimizer)"
   ]
  },
  {
   "cell_type": "code",
   "execution_count": 9,
   "metadata": {
    "collapsed": true
   },
   "outputs": [],
   "source": [
    "algo_result = algo.run()"
   ]
  },
  {
   "cell_type": "code",
   "execution_count": 11,
   "metadata": {},
   "outputs": [
    {
     "name": "stdout",
     "output_type": "stream",
     "text": [
      "=== GROUND STATE ENERGY ===\n",
      " \n",
      "* Electronic ground state energy (Hartree): -8.874303866224\n",
      "  - computed part:      -1.078084297452\n",
      "  - frozen energy part: -7.796219568771\n",
      "  - particle hole part: 0.0\n",
      "~ Nuclear repulsion energy (Hartree): 0.992207270475\n",
      "> Total ground state energy (Hartree): -7.882096595749\n",
      "The parameters for UCCSD are:\n",
      "[ 0.03841346  0.0541097  -0.00571893  0.00369552  0.03835424 -0.00823223\n",
      " -0.00473582  0.00365347 -0.03613082  0.05948699 -0.02738111 -0.02744031\n",
      "  0.05961706 -0.11502287 -0.00593335  0.00937726  0.01207211  0.06069824\n",
      " -0.09090369 -0.04738047 -0.00678526 -0.10049275 -0.02625539 -0.00075635]\n"
     ]
    }
   ],
   "source": [
    "result = core.process_algorithm_result(algo_result)\n",
    "for line in result[0]:\n",
    "    print(line)\n",
    "\n",
    "print(\"The parameters for UCCSD are:\\n{}\".format(algo_result['opt_params']))"
   ]
  },
  {
   "cell_type": "code",
   "execution_count": null,
   "metadata": {
    "collapsed": true
   },
   "outputs": [],
   "source": []
  }
 ],
 "metadata": {
  "kernelspec": {
   "display_name": "Python 3",
   "language": "python",
   "name": "python3"
  },
  "language_info": {
   "codemirror_mode": {
    "name": "ipython",
    "version": 3
   },
   "file_extension": ".py",
   "mimetype": "text/x-python",
   "name": "python",
   "nbconvert_exporter": "python",
   "pygments_lexer": "ipython3",
   "version": "3.6.1"
  }
 },
 "nbformat": 4,
 "nbformat_minor": 1
}
