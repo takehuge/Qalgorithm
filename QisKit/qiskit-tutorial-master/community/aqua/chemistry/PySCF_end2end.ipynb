{
 "cells": [
  {
   "cell_type": "code",
   "execution_count": 1,
   "metadata": {},
   "outputs": [],
   "source": [
    "# import common packages\n",
    "\n",
    "import numpy as np\n",
    "import qiskit\n",
    "from qiskit import QuantumRegister, ClassicalRegister, QuantumCircuit\n",
    "\n",
    "# lib from Qiskit AQUA Chemistry\n",
    "from qiskit_aqua_chemistry import FermionicOperator\n",
    "\n",
    "# lib from optimizer and algorithm\n",
    "from qiskit_aqua.operator import Operator\n",
    "from qiskit_aqua import (get_algorithm_instance, get_optimizer_instance, get_variational_form_instance)\n",
    "\n",
    "# lib for driver\n",
    "from qiskit_aqua_chemistry.drivers import ConfigurationManager\n",
    "from collections import OrderedDict"
   ]
  },
  {
   "cell_type": "code",
   "execution_count": 2,
   "metadata": {},
   "outputs": [],
   "source": [
    "# using driver to get fermionic Hamiltonian\n",
    "# PySCF example\n",
    "cfg_mgr = ConfigurationManager()\n",
    "pyscf_cfg = OrderedDict([('atom', 'H .0 .0 .0; H .0 .0 0.735'), ('unit', 'Angstrom'), ('charge', 0), ('spin', 0), ('basis', 'sto3g')])\n",
    "section = {}\n",
    "section['properties'] = pyscf_cfg\n",
    "driver = cfg_mgr.get_driver_instance('PYSCF')\n",
    "molecule = driver.run(section)"
   ]
  },
  {
   "cell_type": "code",
   "execution_count": 3,
   "metadata": {},
   "outputs": [],
   "source": [
    "# get fermionic operator and mapping to qubit operator\n",
    "ferOp = FermionicOperator(h1=molecule._one_body_integrals, h2=molecule._two_body_integrals)\n",
    "qubitOp = ferOp.mapping(map_type='JORDAN_WIGNER', threshold=0.00000001)\n",
    "qubitOp.convert('paulis','matrix')\n",
    "qubitOp.chop(10**-10)"
   ]
  },
  {
   "cell_type": "code",
   "execution_count": 4,
   "metadata": {},
   "outputs": [],
   "source": [
    "# if you do not install any driver and want like to start with random Hamiltonian\n",
    "# SIZE=4\n",
    "# matrix = np.random.random((SIZE,SIZE))\n",
    "# qubitOp = Operator(matrix=matrix)"
   ]
  },
  {
   "cell_type": "code",
   "execution_count": 5,
   "metadata": {},
   "outputs": [
    {
     "name": "stdout",
     "output_type": "stream",
     "text": [
      "The exact ground state energy is: -1.8572750302023784\n"
     ]
    }
   ],
   "source": [
    "# Using exact eigensolver to get the smallest eigenvalue\n",
    "exact_eigensolver = get_algorithm_instance('ExactEigensolver')\n",
    "exact_eigensolver.init_args(qubitOp, k=1)\n",
    "ret = exact_eigensolver.run()\n",
    "print('The exact ground state energy is: {}'.format(ret['eigvals'][0].real))"
   ]
  },
  {
   "cell_type": "code",
   "execution_count": 6,
   "metadata": {},
   "outputs": [
    {
     "name": "stdout",
     "output_type": "stream",
     "text": [
      "Minimum value: -1.8561457770882446\n",
      "Parameters: [ 3.02820644  1.47014998  1.19845875  3.14159265 -2.51327155  2.53489165\n",
      "  0.69310047 -2.62699062 -2.31484704  0.71715343  0.91447744 -1.00352516\n",
      " -0.7735549  -0.32130523 -1.68941855 -2.2976249   0.68602553 -0.84560077\n",
      " -0.3763706  -0.72044276 -2.55963077 -0.95826442 -0.02167944  0.60251991\n",
      " -1.52871136 -2.9734587   0.21359916 -2.27609593  3.13968575 -1.02984691\n",
      "  0.36880623  2.26815822 -0.81645147  0.46205246  2.66458065  1.77250716\n",
      " -0.79082157 -2.65860629  3.14159265  0.49522769  2.49070312  1.25924913\n",
      " -3.14159265 -3.05236563 -1.16602236  0.76882443  2.12077842 -0.01455567]\n"
     ]
    }
   ],
   "source": [
    "# %timeit\n",
    "# setup VQE \n",
    "# setup optimizer, use L_BFGS_B optimizer for example\n",
    "lbfgs = get_optimizer_instance('L_BFGS_B')\n",
    "lbfgs.set_options(maxfun=1000, factr=10, iprint=10)\n",
    "# spsa = get_optimizer_instance('SPSA')\n",
    "# lbfgs.print_options()\n",
    "\n",
    "# setup variation form generator (generate trial circuits for VQE)\n",
    "var_form = get_variational_form_instance('RYRZ')\n",
    "var_form.init_args(qubitOp.num_qubits, 5, entangler_map = {0: [1], 1:[2], 2:[3]})\n",
    "\n",
    "# setup VQE with operator, variation form, and optimzer\n",
    "vqe_algorithm = get_algorithm_instance('VQE')\n",
    "vqe_algorithm.setup_quantum_backend(backend='statevector_simulator', skip_transpiler=True)\n",
    "vqe_algorithm.init_args(qubitOp, 'matrix', var_form, lbfgs)\n",
    "results = vqe_algorithm.run()\n",
    "print(\"Minimum value: {}\".format(results['eigvals'][0].real))\n",
    "print(\"Parameters: {}\".format(results['opt_params']))"
   ]
  },
  {
   "cell_type": "code",
   "execution_count": null,
   "metadata": {},
   "outputs": [],
   "source": []
  }
 ],
 "metadata": {
  "kernelspec": {
   "display_name": "Python 3",
   "language": "python",
   "name": "python3"
  },
  "language_info": {
   "codemirror_mode": {
    "name": "ipython",
    "version": 3
   },
   "file_extension": ".py",
   "mimetype": "text/x-python",
   "name": "python",
   "nbconvert_exporter": "python",
   "pygments_lexer": "ipython3",
   "version": "3.6.5"
  }
 },
 "nbformat": 4,
 "nbformat_minor": 1
}
