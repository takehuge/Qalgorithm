{
 "cells": [
  {
   "cell_type": "markdown",
   "metadata": {},
   "source": [
    "## _*Quantum SVM (quantum kernel method)*_\n",
    "\n",
    "### Introduction\n",
    "\n",
    "Please refer to [this file](./svm_qkernel.ipynb) for introduction.\n",
    "\n",
    "This file shows an example how to use Aqua API to build SVM classifier and keep the instance for future prediction."
   ]
  },
  {
   "cell_type": "code",
   "execution_count": 1,
   "metadata": {},
   "outputs": [],
   "source": [
    "from datasets import *\n",
    "from qiskit_aqua.utils import split_dataset_to_data_and_labels, map_label_to_class_name\n",
    "from qiskit_aqua.input import get_input_instance\n",
    "from qiskit_aqua import run_algorithm, get_feature_map_instance, get_algorithm_instance, get_multiclass_extension_instance"
   ]
  },
  {
   "cell_type": "markdown",
   "metadata": {},
   "source": [
    "First we prepare the dataset, which is used for training, testing and the finally prediction.\n",
    "\n",
    "*Note: You can easily switch to a different dataset, such as the Breast Cancer dataset, by replacing 'ad_hoc_data' to 'Breast_cancer' below.*"
   ]
  },
  {
   "cell_type": "code",
   "execution_count": 2,
   "metadata": {},
   "outputs": [
    {
     "name": "stdout",
     "output_type": "stream",
     "text": [
      "{'A': 0, 'B': 1}\n"
     ]
    }
   ],
   "source": [
    "n = 2 # dimension of each data point\n",
    "training_dataset_size = 20\n",
    "testing_dataset_size = 10\n",
    "\n",
    "sample_Total, training_input, test_input, class_labels = ad_hoc_data(training_size=training_dataset_size, \n",
    "                                                                     test_size=testing_dataset_size, \n",
    "                                                                     n=n, gap=0.3, PLOT_DATA=False)\n",
    "\n",
    "datapoints, class_to_label = split_dataset_to_data_and_labels(test_input)\n",
    "print(class_to_label)"
   ]
  },
  {
   "cell_type": "markdown",
   "metadata": {},
   "source": [
    "With the dataset ready we initialize the necessary inputs for the algorithm:\n",
    "- build all components required by SVM\n",
    "    - feature_map\n",
    "    - multiclass_extension (optional)"
   ]
  },
  {
   "cell_type": "code",
   "execution_count": 3,
   "metadata": {},
   "outputs": [],
   "source": [
    "svm = get_algorithm_instance(\"QSVM.Kernel\")\n",
    "svm.random_seed = 10598\n",
    "svm.setup_quantum_backend(backend='statevector_simulator')\n",
    "\n",
    "feature_map = get_feature_map_instance('SecondOrderExpansion')\n",
    "feature_map.init_args(num_qubits=2, depth=2, entanglement='linear')\n",
    "\n",
    "svm.init_args(training_input, test_input, datapoints[0], feature_map)"
   ]
  },
  {
   "cell_type": "markdown",
   "metadata": {},
   "source": [
    "With everything setup, we can now run the algorithm.\n",
    "\n",
    "The run method includes training, testing and predict on unlabeled data.\n",
    "\n",
    "For the testing, the result includes the success ratio.\n",
    "\n",
    "For the prediction, the result includes the predicted class names for each data.\n",
    "\n",
    "After that the trained model is also stored in the svm instance, you can use it for future prediction."
   ]
  },
  {
   "cell_type": "code",
   "execution_count": 4,
   "metadata": {},
   "outputs": [],
   "source": [
    "result = svm.run()"
   ]
  },
  {
   "cell_type": "code",
   "execution_count": 5,
   "metadata": {},
   "outputs": [
    {
     "name": "stdout",
     "output_type": "stream",
     "text": [
      "kernel matrix during the training:\n"
     ]
    },
    {
     "data": {
      "image/png": "[encoded data removed]",
      "text/plain": [
       "<matplotlib.figure.Figure at 0x7f2ad7f9a7b8>"
      ]
     },
     "metadata": {},
     "output_type": "display_data"
    },
    {
     "name": "stdout",
     "output_type": "stream",
     "text": [
      "testing success ratio:  1.0\n",
      "predicted classes: ['A', 'A', 'A', 'A', 'A', 'A', 'A', 'A', 'A', 'A', 'B', 'B', 'B', 'B', 'B', 'B', 'B', 'B', 'B', 'B']\n"
     ]
    }
   ],
   "source": [
    "print(\"kernel matrix during the training:\")\n",
    "kernel_matrix = result['kernel_matrix_training']\n",
    "img = plt.imshow(np.asmatrix(kernel_matrix),interpolation='nearest',origin='upper',cmap='bone_r')\n",
    "plt.show()\n",
    "\n",
    "print(\"testing success ratio: \", result['testing_accuracy'])\n",
    "print(\"predicted classes:\", result['predicted_classes'])"
   ]
  },
  {
   "cell_type": "markdown",
   "metadata": {},
   "source": []
  },
  {
   "cell_type": "markdown",
   "metadata": {
    "collapsed": true
   },
   "source": [
    "Use the trained model to evaluate data directly, and we store a `label_to_class` and `class_to_label` for helping converting between label and class name"
   ]
  },
  {
   "cell_type": "code",
   "execution_count": 6,
   "metadata": {},
   "outputs": [
    {
     "name": "stdout",
     "output_type": "stream",
     "text": [
      "ground truth: [0 0 0 0 0 0 0 0 0 0 1 1 1 1 1 1 1 1 1 1]\n",
      "preduction:   [0 0 0 0 0 0 0 0 0 0 1 1 1 1 1 1 1 1 1 1]\n"
     ]
    }
   ],
   "source": [
    "predicted_labels = svm.predict(datapoints[0])\n",
    "\n",
    "predicted_classes = map_label_to_class_name(predicted_labels, svm.label_to_class)\n",
    "print(\"ground truth: {}\".format(datapoints[1]))\n",
    "print(\"preduction:   {}\".format(predicted_labels))"
   ]
  },
  {
   "cell_type": "code",
   "execution_count": null,
   "metadata": {},
   "outputs": [],
   "source": []
  }
 ],
 "metadata": {
  "kernelspec": {
   "display_name": "Python 3",
   "language": "python",
   "name": "python3"
  },
  "language_info": {
   "codemirror_mode": {
    "name": "ipython",
    "version": 3
   },
   "file_extension": ".py",
   "mimetype": "text/x-python",
   "name": "python",
   "nbconvert_exporter": "python",
   "pygments_lexer": "ipython3",
   "version": "3.6.1"
  }
 },
 "nbformat": 4,
 "nbformat_minor": 1
}
