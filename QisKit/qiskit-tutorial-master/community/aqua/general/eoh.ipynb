{
 "cells": [
  {
   "cell_type": "markdown",
   "metadata": {},
   "source": [
    "## _*The EOH (Evolution of Hamiltonian) Algorithm*_\n",
    "\n",
    "This notebook demonstrates how to use the `Qiskit Aqua` library to invoke the EOH algorithm and process the result.\n",
    "\n",
    "Further information may be found for the algorithms in the online [Aqua documentation](https://qiskit.org/documentation/aqua/algorithms.html).\n",
    "\n",
    "For this particular demonstration, we illustrate the `EOH` algorithm. First, two `Operator` instances we created are randomly generated Hamiltonians."
   ]
  },
  {
   "cell_type": "code",
   "execution_count": 1,
   "metadata": {},
   "outputs": [],
   "source": [
    "import numpy as np\n",
    "from qiskit_aqua.operator import Operator\n",
    "\n",
    "num_qubits = 2\n",
    "temp = np.random.random((2 ** num_qubits, 2 ** num_qubits))\n",
    "qubitOp = Operator(matrix=temp + temp.T)\n",
    "temp = np.random.random((2 ** num_qubits, 2 ** num_qubits))\n",
    "evoOp = Operator(matrix=temp + temp.T)"
   ]
  },
  {
   "cell_type": "markdown",
   "metadata": {},
   "source": [
    "For EOH, we would like to evolve some initial state (e.g. the uniform superposition state) with `evoOp` and do a measurement using `qubitOp`. Below, we illustrate how such an example dynamics process can be easily prepared."
   ]
  },
  {
   "cell_type": "code",
   "execution_count": 2,
   "metadata": {
    "collapsed": true
   },
   "outputs": [],
   "source": [
    "from qiskit_aqua.input import get_input_instance\n",
    "\n",
    "params = {\n",
    "    'problem': {\n",
    "        'name': 'eoh'\n",
    "    },\n",
    "    'algorithm': {\n",
    "        'name': 'EOH',\n",
    "        'num_time_slices': 1\n",
    "    },\n",
    "    'initial_state': {\n",
    "        'name': 'CUSTOM',\n",
    "        'state': 'uniform'\n",
    "    },\n",
    "    'backend': {\n",
    "        'name': 'statevector_simulator'\n",
    "    }\n",
    "}\n",
    "algo_input = get_input_instance('EnergyInput')\n",
    "algo_input.qubit_op = qubitOp\n",
    "algo_input.add_aux_op(evoOp)"
   ]
  },
  {
   "cell_type": "markdown",
   "metadata": {},
   "source": [
    "With all the necessary pieces prepared, we can then proceed to run the algorithm and examine the result."
   ]
  },
  {
   "cell_type": "code",
   "execution_count": 3,
   "metadata": {},
   "outputs": [
    {
     "name": "stdout",
     "output_type": "stream",
     "text": [
      "The result is\n",
      "{'avg': (3.1861092137132543-1.184340832586723e-16j), 'std_dev': 0.0}\n"
     ]
    }
   ],
   "source": [
    "from qiskit_aqua import run_algorithm\n",
    "\n",
    "ret = run_algorithm(params, algo_input)\n",
    "print('The result is\\n{}'.format(ret))"
   ]
  },
  {
   "cell_type": "code",
   "execution_count": null,
   "metadata": {
    "collapsed": true
   },
   "outputs": [],
   "source": []
  }
 ],
 "metadata": {
  "kernelspec": {
   "display_name": "Quantum",
   "language": "python",
   "name": "quantum"
  },
  "language_info": {
   "codemirror_mode": {
    "name": "ipython",
    "version": 3
   },
   "file_extension": ".py",
   "mimetype": "text/x-python",
   "name": "python",
   "nbconvert_exporter": "python",
   "pygments_lexer": "ipython3",
   "version": "3.6.3"
  }
 },
 "nbformat": 4,
 "nbformat_minor": 1
}
