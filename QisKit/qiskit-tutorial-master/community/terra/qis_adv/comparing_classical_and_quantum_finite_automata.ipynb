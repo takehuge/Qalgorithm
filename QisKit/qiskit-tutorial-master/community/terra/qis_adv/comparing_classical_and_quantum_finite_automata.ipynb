{
 "cells": [
  {
   "cell_type": "markdown",
   "metadata": {},
   "source": [
    "<img src=\"../../../images/qiskit-heading.png\" alt=\"Note: In order for images to show up in this jupyter notebook you need to select File => Trusted Notebook\" width=\"500 px\" align=\"left\">"
   ]
  },
  {
   "cell_type": "markdown",
   "metadata": {},
   "source": [
    "## _*Comparing Classical and Quantum Finite Automata (QFA)*_\n",
    "\n",
    "Finite Automaton has been a mathematical model for computation since its invention in the 1940s. The purpose of a Finite State Machine is to recognize patterns within an input taken from some character set and accept or reject the input based on whether the pattern defined by the machine occurs in the input. The machine requires a list of states, the initial state, and the conditions for each transition from state to state. Such classical examples are vending machines, coin-operated turnstiles, elevators, traffic lights, etc. \n",
    "\n",
    "In the classical algorithm, the sequence begins in the start state, and will only make a transition if the next character in the input string matches the label on the transition from the current to the next state. The machine will continue making transitions on each input character until no move is possible. The string will be accepted if its final state is in the accept state and will be rejected if its final state is anywhere else. \n",
    "\n",
    "As for Quantum Finite Automata (QFA), the machine works by accepting a finite-length string of letters from a finite alphabet and utilizing quantum properties such as superposition to assign the string a probability of being in either the accept or reject state. "
   ]
  },
  {
   "cell_type": "markdown",
   "metadata": {},
   "source": [
    "***\n",
    "### Contributors\n",
    "Kaitlin Gili, Rudy Raymond"
   ]
  },
  {
   "cell_type": "markdown",
   "metadata": {},
   "source": [
    "## Prime Divisibility Algorithm \n",
    "\n",
    "Let's say that we have a string with $ a^i $ letters and we want to know whether the string is in the language $ L $ where $ L $ = {$ a^i $ | $ i $ is divisble by $ p $} and $ p $ is a prime number. If $ i $ is divisible by $ p $, we want to accept the string into the language, and if not, we want to reject it. \n",
    "$|0\\rangle $ and $ |1\\rangle $ serve as our accept and reject states. \n",
    "\n",
    "Classically, this algorithm requires a minimum of $ log(p) $ bits to store the information, whereas the quantum algorithm only requires $ log(log(p)) $ qubits. For example, using the highest known prime integer, the classical algorithm requires **a minimum of 77,232,917 bits**, whereas the quantum algorithm **only requires 27 qubits**. "
   ]
  },
  {
   "cell_type": "markdown",
   "metadata": {},
   "source": [
    "## Introduction <a id='introduction'></a>\n",
    "\n",
    "The algorithm in this notebook follows that in [Ambainis et al. 1998](https://arxiv.org/pdf/quant-ph/9802062.pdf). We assume that we are given a string and a prime integer. If the user does not input a prime number, the output will be a ValueError. First, we demonstrate a simpler version of the quantum algorithm that uses $ log(p) $ qubits to store the information. Then, we can use this to more easily understand the quantum algorithm that requires only $ log(log(p)) $ qubits."
   ]
  },
  {
   "cell_type": "markdown",
   "metadata": {},
   "source": [
    "## The Algorithm for Log(p) Qubits\n",
    "\n",
    "The algorithm is quite simple as follows.\n",
    "1. Prepare quantum and classical registers for $ log(p) $ qubits initialized to zero. \n",
    "$$ |0\\ldots 0\\rangle $$ \n",
    "2. Prepare $ log(p) $ random numbers k in the range {$ 1 $... $ p-1 $}. These numbers will be used to decrease the probability of a string getting accepted when $ i $ does not divide $ p $. \n",
    "3. Perform a number of $ i $ Y-Rotations on each qubit, where $ \\theta $ is initially zero and $ \\Phi $ is the angle of rotation for each unitary. $$ \\Phi = \\frac{2 \\pi k}{p} $$\n",
    "4. In the final state: \n",
    "$$ \\cos \\theta |0\\rangle + \\sin \\theta |1\\rangle $$\n",
    "$$ \\theta = \\frac{2 \\pi k} p {i} $$\n",
    "5. Measure each of the qubits in the classical register. If $ i $ divides $ p $, $ \\cos \\theta $ will be one for every qubit and the state will collapse to $ |0\\rangle $ to demonstrate an accept state with a probability of one. Otherwise, the output will consist of a small probability of accepting the string into the language and a higher probability of rejecting the string."
   ]
  },
  {
   "cell_type": "markdown",
   "metadata": {},
   "source": [
    "## The Circuit <a id=\"circuit\"></a>\n",
    "\n",
    "We now implement the QFA Prime Divisibility algorithm with QISKit by first preparing the environment."
   ]
  },
  {
   "cell_type": "code",
   "execution_count": 1,
   "metadata": {},
   "outputs": [],
   "source": [
    "# useful additional packages \n",
    "import random\n",
    "import math\n",
    "from sympy.ntheory import isprime\n",
    "\n",
    "# importing QISKit\n",
    "from qiskit import QuantumCircuit, ClassicalRegister, QuantumRegister\n",
    "from qiskit import Aer, IBMQ, execute\n",
    "\n",
    "from qiskit.wrapper.jupyter import *\n",
    "from qiskit.backends.ibmq import least_busy\n",
    "\n",
    "from qiskit.tools.visualization import matplotlib_circuit_drawer as circuit_drawer\n",
    "from qiskit.tools.visualization import plot_histogram, qx_color_scheme"
   ]
  },
  {
   "cell_type": "code",
   "execution_count": 2,
   "metadata": {},
   "outputs": [],
   "source": [
    "IBMQ.load_accounts()\n",
    "sim_backend = Aer.get_backend('qasm_simulator')\n",
    "device_backend = least_busy(IBMQ.backends(operational=True, simulator=False))\n",
    "device_coupling = device_backend.configuration()['coupling_map']"
   ]
  },
  {
   "cell_type": "markdown",
   "metadata": {},
   "source": [
    "We then use QISKit to program the algorithm."
   ]
  },
  {
   "cell_type": "code",
   "execution_count": 3,
   "metadata": {},
   "outputs": [],
   "source": [
    "#Function that takes in a prime number and a string of letters and returns a quantum circuit\n",
    "def qfa_algorithm(string, prime):\n",
    "    if isprime(prime) == False:\n",
    "        raise ValueError(\"This number is not a prime\") #Raises a ValueError if the input prime number is not prime\n",
    "    else:\n",
    "        n = math.ceil((math.log(prime))) #Rounds up to the next integer of the log(prime)\n",
    "        qr = QuantumRegister(n) #Creates a quantum register of length log(prime) for log(prime) qubits\n",
    "        cr = ClassicalRegister(n) #Creates a classical register for measurement \n",
    "        qfaCircuit = QuantumCircuit(qr, cr) #Defining the circuit to take in the values of qr and cr\n",
    "        for x in range(n): #For each qubit, we want to apply a series of unitary operations with a random int\n",
    "            random_value = random.randint(1,prime - 1) #Generates the random int for each qubit from {1, prime -1}\n",
    "            for letter in string: #For each letter in the string, we want to apply the same unitary operation to each qubit\n",
    "                qfaCircuit.ry((2*math.pi*random_value) / prime, qr[x]) #Applies the Y-Rotation to each qubit \n",
    "            qfaCircuit.measure(qr[x], cr[x]) #Measures each qubit \n",
    "        return qfaCircuit #Returns the created quantum circuit"
   ]
  },
  {
   "cell_type": "markdown",
   "metadata": {},
   "source": [
    "The qfa_algorithm function returns the Quantum Circuit qfaCircuit."
   ]
  },
  {
   "cell_type": "markdown",
   "metadata": {},
   "source": [
    "## Experiment with Simulators\n",
    "\n",
    "We can run the above circuit on the simulator. "
   ]
  },
  {
   "cell_type": "code",
   "execution_count": 4,
   "metadata": {},
   "outputs": [],
   "source": [
    "#A function that returns a string saying if the string is accepted into the language or rejected\n",
    "def accept(parameter):\n",
    "    states = list(result.get_counts(parameter))\n",
    "    for s in states:\n",
    "        for integer in s:\n",
    "            if integer == \"1\":\n",
    "                return \"Reject: the string is not accepted into the language\"\n",
    "    return \"Accept: the string is accepted into the language\""
   ]
  },
  {
   "cell_type": "markdown",
   "metadata": {},
   "source": [
    "Insert your own parameters and try even larger prime numbers."
   ]
  },
  {
   "cell_type": "code",
   "execution_count": 5,
   "metadata": {},
   "outputs": [],
   "source": [
    "range_lower = 0\n",
    "range_higher = 36\n",
    "prime_number = 11"
   ]
  },
  {
   "cell_type": "code",
   "execution_count": 6,
   "metadata": {},
   "outputs": [
    {
     "name": "stdout",
     "output_type": "stream",
     "text": [
      "Accept: the string is accepted into the language \n",
      " Length: 0   {'000': 1000}\n",
      "Reject: the string is not accepted into the language \n",
      " Length: 1   {'001': 4, '010': 2, '011': 14, '100': 32, '101': 138, '110': 124, '111': 686}\n",
      "Reject: the string is not accepted into the language \n",
      " Length: 2   {'000': 6, '001': 14, '010': 125, '011': 571, '100': 1, '101': 6, '110': 40, '111': 237}\n",
      "Reject: the string is not accepted into the language \n",
      " Length: 3   {'000': 8, '001': 453, '010': 7, '011': 194, '100': 1, '101': 229, '110': 2, '111': 106}\n",
      "Reject: the string is not accepted into the language \n",
      " Length: 4   {'001': 34, '010': 1, '011': 140, '100': 2, '101': 138, '110': 17, '111': 668}\n",
      "Reject: the string is not accepted into the language \n",
      " Length: 5   {'000': 202, '001': 92, '010': 271, '011': 143, '100': 85, '101': 35, '110': 126, '111': 46}\n",
      "Reject: the string is not accepted into the language \n",
      " Length: 6   {'000': 55, '001': 22, '010': 264, '011': 112, '100': 56, '101': 21, '110': 326, '111': 144}\n",
      "Reject: the string is not accepted into the language \n",
      " Length: 7   {'000': 1, '001': 7, '010': 2, '011': 11, '100': 79, '101': 370, '110': 103, '111': 427}\n",
      "Reject: the string is not accepted into the language \n",
      " Length: 8   {'000': 227, '001': 85, '010': 93, '011': 38, '100': 283, '101': 120, '110': 109, '111': 45}\n",
      "Reject: the string is not accepted into the language \n",
      " Length: 9   {'000': 107, '001': 38, '010': 546, '011': 214, '100': 12, '101': 6, '110': 51, '111': 26}\n",
      "Reject: the string is not accepted into the language \n",
      " Length: 10   {'000': 267, '001': 115, '010': 372, '011': 172, '100': 23, '101': 9, '110': 29, '111': 13}\n",
      "Accept: the string is accepted into the language \n",
      " Length: 11   {'000': 1000}\n",
      "Reject: the string is not accepted into the language \n",
      " Length: 12   {'000': 3, '001': 7, '011': 7, '100': 109, '101': 582, '110': 55, '111': 237}\n",
      "Reject: the string is not accepted into the language \n",
      " Length: 13   {'000': 56, '001': 259, '010': 66, '011': 325, '100': 14, '101': 108, '110': 29, '111': 143}\n",
      "Reject: the string is not accepted into the language \n",
      " Length: 14   {'000': 3, '001': 1, '010': 319, '011': 122, '100': 7, '101': 2, '110': 385, '111': 161}\n",
      "Reject: the string is not accepted into the language \n",
      " Length: 15   {'000': 1, '001': 1, '010': 170, '011': 7, '100': 8, '101': 1, '110': 752, '111': 60}\n",
      "Reject: the string is not accepted into the language \n",
      " Length: 16   {'000': 22, '001': 93, '010': 10, '011': 34, '100': 113, '101': 504, '110': 38, '111': 186}\n",
      "Reject: the string is not accepted into the language \n",
      " Length: 17   {'000': 22, '001': 85, '010': 7, '011': 32, '100': 115, '101': 474, '110': 45, '111': 220}\n",
      "Reject: the string is not accepted into the language \n",
      " Length: 18   {'000': 118, '001': 172, '010': 55, '011': 82, '100': 181, '101': 214, '110': 73, '111': 105}\n",
      "Reject: the string is not accepted into the language \n",
      " Length: 19   {'000': 255, '001': 393, '010': 108, '011': 154, '100': 25, '101': 42, '110': 8, '111': 15}\n",
      "Reject: the string is not accepted into the language \n",
      " Length: 20   {'000': 2, '001': 104, '010': 2, '011': 43, '100': 13, '101': 579, '110': 7, '111': 250}\n",
      "Reject: the string is not accepted into the language \n",
      " Length: 21   {'000': 286, '001': 24, '010': 357, '011': 35, '100': 125, '101': 9, '110': 150, '111': 14}\n",
      "Accept: the string is accepted into the language \n",
      " Length: 22   {'000': 1000}\n",
      "Reject: the string is not accepted into the language \n",
      " Length: 23   {'000': 57, '001': 10, '010': 334, '011': 34, '100': 70, '101': 9, '110': 449, '111': 37}\n",
      "Reject: the string is not accepted into the language \n",
      " Length: 24   {'000': 29, '001': 130, '010': 2, '011': 7, '100': 149, '101': 621, '110': 14, '111': 48}\n",
      "Reject: the string is not accepted into the language \n",
      " Length: 25   {'000': 131, '001': 48, '010': 190, '011': 69, '100': 169, '101': 77, '110': 237, '111': 79}\n",
      "Reject: the string is not accepted into the language \n",
      " Length: 26   {'000': 3, '001': 303, '010': 1, '011': 126, '100': 8, '101': 400, '110': 2, '111': 157}\n",
      "Reject: the string is not accepted into the language \n",
      " Length: 27   {'000': 14, '001': 487, '010': 7, '011': 196, '100': 2, '101': 211, '110': 2, '111': 81}\n",
      "Reject: the string is not accepted into the language \n",
      " Length: 28   {'000': 1, '001': 4, '010': 10, '011': 5, '100': 65, '101': 109, '110': 354, '111': 452}\n",
      "Reject: the string is not accepted into the language \n",
      " Length: 29   {'000': 189, '001': 299, '010': 77, '011': 106, '100': 100, '101': 135, '110': 45, '111': 49}\n",
      "Reject: the string is not accepted into the language \n",
      " Length: 30   {'000': 10, '001': 55, '010': 72, '011': 276, '100': 16, '101': 90, '110': 67, '111': 414}\n",
      "Reject: the string is not accepted into the language \n",
      " Length: 31   {'000': 4, '010': 170, '011': 13, '100': 19, '110': 723, '111': 71}\n",
      "Reject: the string is not accepted into the language \n",
      " Length: 32   {'000': 102, '001': 5, '010': 52, '011': 6, '100': 537, '101': 47, '110': 229, '111': 22}\n",
      "Accept: the string is accepted into the language \n",
      " Length: 33   {'000': 1000}\n",
      "Reject: the string is not accepted into the language \n",
      " Length: 34   {'001': 23, '010': 14, '011': 876, '101': 1, '111': 86}\n",
      "Reject: the string is not accepted into the language \n",
      " Length: 35   {'000': 9, '001': 3, '010': 7, '011': 2, '100': 495, '101': 184, '110': 204, '111': 96}\n"
     ]
    }
   ],
   "source": [
    "for length in range(range_lower,range_higher):\n",
    "    params = qfa_algorithm(\"a\"* length, prime_number)\n",
    "    job = execute(params, sim_backend, shots=1000)\n",
    "    result = job.result()\n",
    "    print(accept(params), \"\\n\", \"Length:\",length,\" \" ,result.get_counts(params))"
   ]
  },
  {
   "cell_type": "markdown",
   "metadata": {},
   "source": [
    "### Drawing the circuit of the QFA\n",
    "\n",
    "Below is the snapshop of the QFA for reading the bitstring of length $3$. It can be seen that there are independent QFAs each of which performs $Y$ rotation for $3$ times.  "
   ]
  },
  {
   "cell_type": "code",
   "execution_count": 7,
   "metadata": {
    "scrolled": true
   },
   "outputs": [
    {
     "data": {
      "image/png": "[encoded data removed]",
      "text/plain": [
       "<matplotlib.figure.Figure at 0xa10bc5a90>"
      ]
     },
     "metadata": {},
     "output_type": "display_data"
    }
   ],
   "source": [
    "circuit_drawer(qfa_algorithm(\"a\"* 3, prime_number), style=qx_color_scheme())"
   ]
  },
  {
   "cell_type": "markdown",
   "metadata": {},
   "source": [
    "## The Algorithm for Log(Log(p)) Qubits\n",
    "\n",
    "The algorithm is quite simple as follows.\n",
    "1. Prepare a quantum register for $ log(log(p)) + 1 $ qubits initialized to zero. The $ log(log(p))$ qubits will act as your control bits and the 1 extra will act as your target bit. Also prepare a classical register for 1 bit to measure the target. \n",
    "$$ |0\\ldots 0\\rangle |0\\rangle  $$ \n",
    "2. Hadamard the control bits to put them in a superposition so that we can perform multiple QFA's at the same time.\n",
    "3. For each of $s $ states in the superposition, we can perform an individual QFA with the control qubits acting as the random integer $ k $ from the previous algorithm. Thus, we need $ n $ values from $ 1... log(p)$ for $ k $. For each letter $ i $ in the string, we perform a controlled y-rotation on the target qubit, where $ \\theta $ is initially zero and $ \\Phi $ is the angle of rotation for each unitary. $$ \\Phi = \\frac{2 \\pi k_{s}}{p} $$\n",
    "4. The target qubit in the final state: \n",
    "$$ \\cos \\theta |0\\rangle + \\sin \\theta |1\\rangle $$\n",
    "$$ \\theta = \\sum_{s=0}^n \\frac{2 \\pi k_{s}} p {i} $$\n",
    "5. Measure the target qubit in the classical register. If $ i $ divides $ p $, $ \\cos \\theta $ will be one for every QFA and the state of the target will collapse to $ |0\\rangle $ to demonstrate an accept state with a probability of one. Otherwise, the output will consist of a small probability of accepting the string into the language and a higher probability of rejecting the string."
   ]
  },
  {
   "cell_type": "markdown",
   "metadata": {},
   "source": [
    "## The Circuit <a id=\"circuit\"></a>"
   ]
  },
  {
   "cell_type": "markdown",
   "metadata": {},
   "source": [
    "We then use QISKit to program the algorithm."
   ]
  },
  {
   "cell_type": "code",
   "execution_count": 8,
   "metadata": {},
   "outputs": [],
   "source": [
    "#Function that takes in a prime number and a string of letters and returns a quantum circuit\n",
    "def qfa_controlled_algorithm(string, prime):\n",
    "    if isprime(prime) == False:\n",
    "        raise ValueError(\"This number is not a prime\") #Raises a ValueError if the input prime number is not prime\n",
    "    else:\n",
    "        n = math.ceil((math.log(math.log(prime,2),2))) #Represents log(log(p)) control qubits \n",
    "        states = 2 ** (n) #Number of states that the qubits can represent/Number of QFA's to be performed \n",
    "        qr = QuantumRegister(n+1) #Creates a quantum register of log(log(prime)) control qubits + 1 target qubit\n",
    "        cr = ClassicalRegister(1) #Creates a classical register of log(log(prime)) control qubits + 1 target qubit\n",
    "        control_qfaCircuit = QuantumCircuit(qr, cr) #Defining the circuit to take in the values of qr and cr\n",
    "        for q in range(n): #We want to take each control qubit and put them in a superposition by applying a Hadamard Gate\n",
    "            control_qfaCircuit.h(qr[q])\n",
    "        for letter in string: #For each letter in the string, we want to apply a series of Controlled Y-rotations\n",
    "            for q in range(n):  \n",
    "                control_qfaCircuit.cu3(2*math.pi*(2**q)/prime, 0, 0, qr[q], qr[n]) #Controlled Y on Target qubit \n",
    "        control_qfaCircuit.measure(qr[n], cr[0]) #Measure the target qubit  \n",
    "        return control_qfaCircuit #Returns the created quantum circuit  "
   ]
  },
  {
   "cell_type": "markdown",
   "metadata": {},
   "source": [
    "The qfa_algorithm function returns the Quantum Circuit control_qfaCircuit."
   ]
  },
  {
   "cell_type": "markdown",
   "metadata": {},
   "source": [
    "## Experiment with Simulators\n",
    "\n",
    "We can run the above circuit on the simulator. "
   ]
  },
  {
   "cell_type": "code",
   "execution_count": 9,
   "metadata": {},
   "outputs": [
    {
     "name": "stdout",
     "output_type": "stream",
     "text": [
      "Accept: the string is accepted into the language \n",
      " Length: 0   {'0': 1000}\n",
      "Reject: the string is not accepted into the language \n",
      " Length: 1   {'0': 782, '1': 218}\n",
      "Reject: the string is not accepted into the language \n",
      " Length: 2   {'0': 488, '1': 512}\n",
      "Reject: the string is not accepted into the language \n",
      " Length: 3   {'0': 546, '1': 454}\n",
      "Reject: the string is not accepted into the language \n",
      " Length: 4   {'0': 643, '1': 357}\n",
      "Reject: the string is not accepted into the language \n",
      " Length: 5   {'0': 554, '1': 446}\n",
      "Reject: the string is not accepted into the language \n",
      " Length: 6   {'0': 527, '1': 473}\n",
      "Reject: the string is not accepted into the language \n",
      " Length: 7   {'0': 661, '1': 339}\n",
      "Reject: the string is not accepted into the language \n",
      " Length: 8   {'0': 539, '1': 461}\n",
      "Reject: the string is not accepted into the language \n",
      " Length: 9   {'0': 475, '1': 525}\n",
      "Reject: the string is not accepted into the language \n",
      " Length: 10   {'0': 758, '1': 242}\n",
      "Accept: the string is accepted into the language \n",
      " Length: 11   {'0': 1000}\n",
      "Reject: the string is not accepted into the language \n",
      " Length: 12   {'0': 747, '1': 253}\n",
      "Reject: the string is not accepted into the language \n",
      " Length: 13   {'0': 451, '1': 549}\n",
      "Reject: the string is not accepted into the language \n",
      " Length: 14   {'0': 549, '1': 451}\n",
      "Reject: the string is not accepted into the language \n",
      " Length: 15   {'0': 629, '1': 371}\n",
      "Reject: the string is not accepted into the language \n",
      " Length: 16   {'0': 554, '1': 446}\n",
      "Reject: the string is not accepted into the language \n",
      " Length: 17   {'0': 535, '1': 465}\n",
      "Reject: the string is not accepted into the language \n",
      " Length: 18   {'0': 688, '1': 312}\n",
      "Reject: the string is not accepted into the language \n",
      " Length: 19   {'0': 531, '1': 469}\n",
      "Reject: the string is not accepted into the language \n",
      " Length: 20   {'0': 473, '1': 527}\n",
      "Reject: the string is not accepted into the language \n",
      " Length: 21   {'0': 782, '1': 218}\n",
      "Accept: the string is accepted into the language \n",
      " Length: 22   {'0': 1000}\n",
      "Reject: the string is not accepted into the language \n",
      " Length: 23   {'0': 765, '1': 235}\n",
      "Reject: the string is not accepted into the language \n",
      " Length: 24   {'0': 467, '1': 533}\n",
      "Reject: the string is not accepted into the language \n",
      " Length: 25   {'0': 519, '1': 481}\n",
      "Reject: the string is not accepted into the language \n",
      " Length: 26   {'0': 632, '1': 368}\n",
      "Reject: the string is not accepted into the language \n",
      " Length: 27   {'0': 548, '1': 452}\n",
      "Reject: the string is not accepted into the language \n",
      " Length: 28   {'0': 528, '1': 472}\n",
      "Reject: the string is not accepted into the language \n",
      " Length: 29   {'0': 629, '1': 371}\n",
      "Reject: the string is not accepted into the language \n",
      " Length: 30   {'0': 544, '1': 456}\n",
      "Reject: the string is not accepted into the language \n",
      " Length: 31   {'0': 485, '1': 515}\n",
      "Reject: the string is not accepted into the language \n",
      " Length: 32   {'0': 765, '1': 235}\n",
      "Accept: the string is accepted into the language \n",
      " Length: 33   {'0': 1000}\n",
      "Reject: the string is not accepted into the language \n",
      " Length: 34   {'0': 784, '1': 216}\n",
      "Reject: the string is not accepted into the language \n",
      " Length: 35   {'0': 463, '1': 537}\n"
     ]
    }
   ],
   "source": [
    "for length in range(range_lower,range_higher):\n",
    "    params = qfa_controlled_algorithm(\"a\"* length, prime_number)\n",
    "    job = execute(params, sim_backend, shots=1000)\n",
    "    result = job.result()\n",
    "    print(accept(params), \"\\n\", \"Length:\",length,\" \" ,result.get_counts(params))"
   ]
  },
  {
   "cell_type": "markdown",
   "metadata": {},
   "source": [
    "### Drawing the circuit of the QFA\n",
    "\n",
    "Below is the snapshot of the QFA for reading the bitstring of length $3$. It can be seen that there is a superposition of QFAs instead of independent QFAs. "
   ]
  },
  {
   "cell_type": "code",
   "execution_count": 10,
   "metadata": {},
   "outputs": [
    {
     "data": {
      "image/png": "[encoded data removed]",
      "text/plain": [
       "<matplotlib.figure.Figure at 0xa1151b2e8>"
      ]
     },
     "metadata": {},
     "output_type": "display_data"
    }
   ],
   "source": [
    "circuit_drawer(qfa_controlled_algorithm(\"a\"* 3, prime_number), style=qx_color_scheme())"
   ]
  },
  {
   "cell_type": "markdown",
   "metadata": {
    "collapsed": true
   },
   "source": [
    "## Experimenting with Real Devices\n",
    "\n",
    "Real-device backends have errors and if the above QFAs are executed on the noisy backends, errors in rejecting strings that should have been accepted can happen. Let us see how well the real-device backends can realize the QFAs. "
   ]
  },
  {
   "cell_type": "markdown",
   "metadata": {},
   "source": [
    "Let us look an example when the QFA should reject the bitstring because the length of the bitstring is not divisible by the prime number."
   ]
  },
  {
   "cell_type": "code",
   "execution_count": 11,
   "metadata": {},
   "outputs": [
    {
     "name": "stdout",
     "output_type": "stream",
     "text": [
      "The length of a is 2  while the prime number is 3\n"
     ]
    }
   ],
   "source": [
    "prime_number = 3\n",
    "length = 2          # set the length so that it is not divisible by the prime_number\n",
    "print(\"The length of a is\", length, \" while the prime number is\", prime_number)\n",
    "qfa1 = qfa_controlled_algorithm(\"a\"* length, prime_number)"
   ]
  },
  {
   "cell_type": "code",
   "execution_count": 12,
   "metadata": {},
   "outputs": [
    {
     "data": {
      "application/vnd.jupyter.widget-view+json": {
       "model_id": "4c71b856c65f48b2a7b21b9935c69c4e",
       "version_major": 2,
       "version_minor": 0
      },
      "text/plain": [
       "VBox(children=(HTML(value=\"<p style='font-size:16px;'>Job Status : job is being initialized </p>\"),))"
      ]
     },
     "metadata": {},
     "output_type": "display_data"
    }
   ],
   "source": [
    "%%qiskit_job_status\n",
    "HTMLProgressBar()\n",
    "job = execute(qfa1, backend=device_backend, coupling_map=device_coupling, shots=100)"
   ]
  },
  {
   "cell_type": "code",
   "execution_count": 13,
   "metadata": {},
   "outputs": [
    {
     "data": {
      "image/png": "[encoded data removed]",
      "text/plain": [
       "<matplotlib.figure.Figure at 0xa10b33048>"
      ]
     },
     "metadata": {},
     "output_type": "display_data"
    }
   ],
   "source": [
    "result = job.result()\n",
    "plot_histogram(result.get_counts())"
   ]
  },
  {
   "cell_type": "markdown",
   "metadata": {},
   "source": [
    "In the above, we can see that the probability of observing \"1\" is quite significant. Let us see how the circuit looks like. "
   ]
  },
  {
   "cell_type": "code",
   "execution_count": 14,
   "metadata": {},
   "outputs": [
    {
     "data": {
      "image/png": "[encoded data removed]",
      "text/plain": [
       "<matplotlib.figure.Figure at 0xa15bf3a20>"
      ]
     },
     "metadata": {},
     "output_type": "display_data"
    }
   ],
   "source": [
    "circuit_drawer(qfa1, style=qx_color_scheme())"
   ]
  },
  {
   "cell_type": "markdown",
   "metadata": {},
   "source": [
    "Now, let us see what happens when the QFAs should accept the input string."
   ]
  },
  {
   "cell_type": "code",
   "execution_count": 15,
   "metadata": {
    "scrolled": false
   },
   "outputs": [
    {
     "name": "stdout",
     "output_type": "stream",
     "text": [
      "The length of a is 3  while the prime number is 3\n"
     ]
    }
   ],
   "source": [
    "print_number = length = 3 # set the length so that it is divisible by the prime_number\n",
    "print(\"The length of a is\", length, \" while the prime number is\", prime_number)\n",
    "qfa2 = qfa_controlled_algorithm(\"a\"* length, prime_number)"
   ]
  },
  {
   "cell_type": "code",
   "execution_count": 16,
   "metadata": {},
   "outputs": [
    {
     "data": {
      "application/vnd.jupyter.widget-view+json": {
       "model_id": "874137df5d2443b19d323835e4c963a7",
       "version_major": 2,
       "version_minor": 0
      },
      "text/plain": [
       "VBox(children=(HTML(value=\"<p style='font-size:16px;'>Job Status : job is being initialized </p>\"),))"
      ]
     },
     "metadata": {},
     "output_type": "display_data"
    }
   ],
   "source": [
    "%%qiskit_job_status\n",
    "HTMLProgressBar()\n",
    "job = execute(qfa2, backend=device_backend, coupling_map=device_coupling, shots=100)"
   ]
  },
  {
   "cell_type": "code",
   "execution_count": 17,
   "metadata": {},
   "outputs": [
    {
     "data": {
      "image/png": "[encoded data removed]",
      "text/plain": [
       "<matplotlib.figure.Figure at 0xa10b233c8>"
      ]
     },
     "metadata": {},
     "output_type": "display_data"
    }
   ],
   "source": [
    "result = job.result()\n",
    "plot_histogram(result.get_counts())"
   ]
  },
  {
   "cell_type": "markdown",
   "metadata": {},
   "source": [
    "The error of rejecting the bitstring is equal to the probability of observing \"1\" which can be checked from the above histogram. We can see that the noise of real-device backends prevents us to have a correct answer. It is left as future work on how to mitigate errors of the backends in the QFA models. "
   ]
  },
  {
   "cell_type": "code",
   "execution_count": 18,
   "metadata": {},
   "outputs": [
    {
     "data": {
      "image/png": "[encoded data removed]",
      "text/plain": [
       "<matplotlib.figure.Figure at 0x103374da0>"
      ]
     },
     "metadata": {},
     "output_type": "display_data"
    }
   ],
   "source": [
    "circuit_drawer(qfa2, style=qx_color_scheme())"
   ]
  }
 ],
 "metadata": {
  "kernelspec": {
   "display_name": "Python [default]",
   "language": "python",
   "name": "python3"
  },
  "language_info": {
   "codemirror_mode": {
    "name": "ipython",
    "version": 3
   },
   "file_extension": ".py",
   "mimetype": "text/x-python",
   "name": "python",
   "nbconvert_exporter": "python",
   "pygments_lexer": "ipython3",
   "version": "3.6.4"
  }
 },
 "nbformat": 4,
 "nbformat_minor": 2
}
