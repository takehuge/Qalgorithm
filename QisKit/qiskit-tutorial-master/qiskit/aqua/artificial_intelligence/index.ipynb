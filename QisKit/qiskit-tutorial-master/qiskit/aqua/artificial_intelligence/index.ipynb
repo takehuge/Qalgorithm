{
 "cells": [
  {
   "cell_type": "markdown",
   "metadata": {},
   "source": [
    "# Qiskit Aqua Artificial Intelligence\n",
    "\n",
    "Qiskit Aqua Artificial Intelligence is a set of tools, algorithms and software for use with quantum computers to \n",
    "carry out research and investigate how to take advantage of quantum computing power to solve artificial intelligence\n",
    "problems. \n",
    "\n",
    "## Contents\n",
    "\n",
    "* [Quantum SVM for Classification](qsvm_kernel_classification.ipynb)\n",
    "* More examples can be found in [commuity/aqua/artificial_intelligence](../../../community/aqua/artificial_intelligence)"
   ]
  },
  {
   "cell_type": "code",
   "execution_count": null,
   "metadata": {
    "collapsed": true
   },
   "outputs": [],
   "source": []
  }
 ],
 "metadata": {
  "kernelspec": {
   "display_name": "quantum-dev",
   "language": "python",
   "name": "quantum-dev"
  },
  "language_info": {
   "codemirror_mode": {
    "name": "ipython",
    "version": 3
   },
   "file_extension": ".py",
   "mimetype": "text/x-python",
   "name": "python",
   "nbconvert_exporter": "python",
   "pygments_lexer": "ipython3",
   "version": "3.6.5"
  }
 },
 "nbformat": 4,
 "nbformat_minor": 2
}
