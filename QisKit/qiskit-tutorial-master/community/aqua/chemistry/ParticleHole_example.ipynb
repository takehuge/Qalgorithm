{
 "cells": [
  {
   "cell_type": "code",
   "execution_count": 1,
   "metadata": {},
   "outputs": [],
   "source": [
    "# import common packages\n",
    "import numpy as np\n",
    "\n",
    "import qiskit\n",
    "from qiskit import QuantumRegister, ClassicalRegister, QuantumCircuit\n",
    "\n",
    "# lib from Qiskit AQUA Chemistry\n",
    "from qiskit_aqua_chemistry import FermionicOperator\n",
    "\n",
    "# lib from optimizer and algorithm\n",
    "from qiskit_aqua.operator import Operator\n",
    "from qiskit_aqua import (get_algorithm_instance, get_optimizer_instance, get_variational_form_instance)\n",
    "\n",
    "# lib for driver\n",
    "from qiskit_aqua_chemistry.drivers import ConfigurationManager\n",
    "from collections import OrderedDict"
   ]
  },
  {
   "cell_type": "code",
   "execution_count": 2,
   "metadata": {},
   "outputs": [],
   "source": [
    "from qiskit_aqua_chemistry.drivers import ConfigurationManager\n",
    "from collections import OrderedDict\n",
    "cfg_mgr = ConfigurationManager()\n",
    "pyscf_cfg = OrderedDict([('atom', 'H .0 .0 .0; H .0 .0 0.735'), ('unit', 'Angstrom'), ('charge', 0), ('spin', 0), \\\n",
    "                         ('basis', 'sto3g')])\n",
    "section = {}\n",
    "section['properties'] = pyscf_cfg\n",
    "driver = cfg_mgr.get_driver_instance('PYSCF')\n",
    "molecule = driver.run(section)"
   ]
  },
  {
   "cell_type": "code",
   "execution_count": 3,
   "metadata": {},
   "outputs": [
    {
     "name": "stdout",
     "output_type": "stream",
     "text": [
      "The exact ground state energy is: -1.8572750302023815\n",
      "The Hartree Fock Electron Energy is: -1.8369679912029842\n"
     ]
    }
   ],
   "source": [
    "ferOp = FermionicOperator(h1=molecule._one_body_integrals, h2=molecule._two_body_integrals)\n",
    "qubitOp_jw = ferOp.mapping(map_type='JORDAN_WIGNER', threshold=0.00000001)\n",
    "qubitOp_jw.chop(10**-10)\n",
    "\n",
    "# Using exact eigensolver to get the smallest eigenvalue\n",
    "exact_eigensolver = get_algorithm_instance('ExactEigensolver')\n",
    "exact_eigensolver.init_args(qubitOp_jw, k=1)\n",
    "ret = exact_eigensolver.run()\n",
    "\n",
    "# print(qubitOp_jw.print_operators())\n",
    "\n",
    "print('The exact ground state energy is: {}'.format(ret['energy']))\n",
    "print('The Hartree Fock Electron Energy is: {}'.format(molecule._hf_energy - molecule._nuclear_repulsion_energy))"
   ]
  },
  {
   "cell_type": "code",
   "execution_count": 4,
   "metadata": {},
   "outputs": [
    {
     "name": "stdout",
     "output_type": "stream",
     "text": [
      "Energy shift is: 1.8369679912029846\n",
      "The exact ground state energy in PH basis is -0.020307038999395333\n",
      "The exact ground state energy in PH basis is -1.85727503020238 (with energy_shift)\n"
     ]
    }
   ],
   "source": [
    "# particle hole transformation\n",
    "newferOp, energy_shift = ferOp.particle_hole_transformation(num_particles=2)\n",
    "print('Energy shift is: {}'.format(energy_shift))\n",
    "newqubitOp_jw = newferOp.mapping(map_type='JORDAN_WIGNER', threshold=0.00000001)\n",
    "newqubitOp_jw.chop(10**-10)\n",
    "\n",
    "exact_eigensolver = get_algorithm_instance('ExactEigensolver')\n",
    "exact_eigensolver.init_args(newqubitOp_jw, k=1)\n",
    "ret = exact_eigensolver.run()\n",
    "\n",
    "# print(newqubitOp_jw.print_operators())\n",
    "print('The exact ground state energy in PH basis is {}'.format(ret['energy']))\n",
    "print('The exact ground state energy in PH basis is {} (with energy_shift)'.format(ret['energy'] - energy_shift))"
   ]
  },
  {
   "cell_type": "code",
   "execution_count": 5,
   "metadata": {},
   "outputs": [
    {
     "name": "stdout",
     "output_type": "stream",
     "text": [
      "Minimum value: -0.02030703897035787\n",
      "Minimum value: -1.8572750301733425\n",
      "Parameters: [ 0.46831958  2.91805342  1.65527567  1.61302219  1.16175063 -3.14159265\n",
      " -1.57081478  1.02325207 -1.10249379 -3.14159265 -2.98030417  1.57081197\n",
      "  2.73252951  3.14159265  1.66611688 -0.55334085]\n"
     ]
    }
   ],
   "source": [
    "# setup VQE \n",
    "# setup optimizer, use L_BFGS_B optimizer for example\n",
    "lbfgs = get_optimizer_instance('L_BFGS_B')\n",
    "lbfgs.set_options(maxfun=1000, factr=10, iprint=10)\n",
    "\n",
    "# setup variation form generator (generate trial circuits for VQE)\n",
    "var_form = get_variational_form_instance('RY')\n",
    "var_form.init_args(newqubitOp_jw.num_qubits, 3, entangler_map = {0: [1], 1:[2], 2:[3]})\n",
    "\n",
    "# setup VQE with operator, variation form, and optimzer\n",
    "vqe_algorithm = get_algorithm_instance('VQE')\n",
    "vqe_algorithm.setup_quantum_backend()\n",
    "vqe_algorithm.init_args(newqubitOp_jw, 'matrix', var_form, lbfgs)\n",
    "results = vqe_algorithm.run()\n",
    "print(\"Minimum value: {}\".format(results['eigvals'][0].real))\n",
    "print(\"Minimum value: {}\".format(results['eigvals'][0].real - energy_shift))\n",
    "print(\"Parameters: {}\".format(results['opt_params']))"
   ]
  },
  {
   "cell_type": "code",
   "execution_count": null,
   "metadata": {},
   "outputs": [],
   "source": []
  }
 ],
 "metadata": {
  "kernelspec": {
   "display_name": "Python 3",
   "language": "python",
   "name": "python3"
  },
  "language_info": {
   "codemirror_mode": {
    "name": "ipython",
    "version": 3
   },
   "file_extension": ".py",
   "mimetype": "text/x-python",
   "name": "python",
   "nbconvert_exporter": "python",
   "pygments_lexer": "ipython3",
   "version": "3.6.5"
  }
 },
 "nbformat": 4,
 "nbformat_minor": 2
}
