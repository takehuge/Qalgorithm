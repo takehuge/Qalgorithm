{
 "cells": [
  {
   "cell_type": "markdown",
   "metadata": {},
   "source": [
    "<img src=\"../../../images/qiskit-heading.gif\" alt=\"Note: In order for images to show up in this jupyter notebook you need to select File => Trusted Notebook\" width=\"500 px\" align=\"left\">"
   ]
  },
  {
   "cell_type": "markdown",
   "metadata": {},
   "source": [
    "# _*Qiskit Aqua: Tutorial to develop an algorithm*_ \n",
    "\n",
    "The latest version of this notebook is available on https://github.com/Qiskit/qiskit-tutorial.\n",
    "\n",
    "***\n",
    "### Contributors\n",
    "Richard Chen<sup>[1]</sup>, Shaohan Hu<sup>[1]</sup>, Antonio Mezzacapo<sup>[1]</sup>, Peng Liu<sup>[1]</sup>, Marco Pistoia<sup>[1]</sup>, Stephen Wood<sup>[1]</sup>\n",
    "### Affiliation\n",
    "- <sup>[1]</sup>IBMQ"
   ]
  },
  {
   "cell_type": "markdown",
   "metadata": {},
   "source": [
    "### Introduction\n",
    "\n",
    "This notebook is part of the simple example of an algorithm for `Qiskit Aqua`. This samaple, called `Evolution Fidelity`, illustrates how to implement an algorithm and what steps to take to configure and run it. The implementation of the algorithm itself is located in the `evolutionfidelity` directory.\n",
    "\n",
    "**Note: This notebook explicitly registers the example algorithm. If instead the register_algorithm is commented and the implementation folder `evolutionfidelity` moved/copied  under `qiskit_aqua` then the algorithm will be automatically discovered and explicit registration is not needed**.\n",
    "\n",
    "Assuming the above done, we can easily get an instance of the algorithm as well as a random initial state to be used for checking quantum evolution fidelity, as follows."
   ]
  },
  {
   "cell_type": "markdown",
   "metadata": {},
   "source": [
    "### [Optional] Setup token to run the experiment on a real device\n",
    "If you would like to run the experiement on a real device, you need to setup your account first.\n",
    "\n",
    "Note: If you do not store your token yet, use `IBMQ.save_accounts()` to store it first."
   ]
  },
  {
   "cell_type": "code",
   "execution_count": 1,
   "metadata": {
    "collapsed": true
   },
   "outputs": [],
   "source": [
    "from qiskit import IBMQ\n",
    "IBMQ.load_accounts()"
   ]
  },
  {
   "cell_type": "code",
   "execution_count": 2,
   "metadata": {
    "collapsed": true
   },
   "outputs": [],
   "source": [
    "import numpy as np\n",
    "from qiskit_aqua.operator import Operator\n",
    "from qiskit_aqua import get_algorithm_instance\n",
    "from qiskit_aqua import get_initial_state_instance\n",
    "from qiskit_aqua import register_algorithm\n",
    "from evolutionfidelity import EvolutionFidelity\n",
    "\n",
    "# np.random.seed(2)\n",
    "num_qubits = 2\n",
    "temp = np.random.random((2 ** num_qubits, 2 ** num_qubits))\n",
    "qubitOp = Operator(matrix=temp + temp.T)\n",
    "\n",
    "# While the algorithm can be automatically discovered if placed in an\n",
    "# approriate folder, we can manually register it like this. If the sample\n",
    "# algorithm folder was copied/moved to qiskit_aqua then this \n",
    "# line below can be commented out as it will be discovered/registered automatically\n",
    "register_algorithm(EvolutionFidelity)\n",
    "\n",
    "# get an instance of Dynamics\n",
    "ef = get_algorithm_instance('EvolutionFidelity')\n",
    "ef.setup_quantum_backend(backend='statevector_simulator') # setup the desired backend\n",
    "\n",
    "state_in = get_initial_state_instance('CUSTOM')\n",
    "state_in.init_args(num_qubits, state='random')"
   ]
  },
  {
   "cell_type": "markdown",
   "metadata": {},
   "source": [
    "With the necessary pieces in place, we can then change the `expansion_order` and run the algorithm to see how the quantum evolution fidelity is affected by the different orders."
   ]
  },
  {
   "cell_type": "code",
   "execution_count": 3,
   "metadata": {},
   "outputs": [
    {
     "name": "stdout",
     "output_type": "stream",
     "text": [
      "The evolution fidelity under 1st order suzuki expansion is 0.9842164185807274.\n",
      "The evolution fidelity under 2nd order suzuki expansion is 0.9999738006866971.\n",
      "The evolution fidelity under 3rd order suzuki expansion is 0.9999999990494175.\n",
      "The evolution fidelity under 4th order suzuki expansion is 0.9999999999999802.\n"
     ]
    }
   ],
   "source": [
    "import math\n",
    "ordinal = lambda n: \"%d%s\" % (n,\"tsnrhtdd\"[(math.floor(n/10)%10!=1)*(n%10<4)*n%10::4])\n",
    "\n",
    "for expansion_order in [1, 2, 3, 4]:\n",
    "    ef.init_args(\n",
    "        qubitOp, state_in,\n",
    "        expansion_order=expansion_order\n",
    "    )\n",
    "    print('The evolution fidelity under {} order suzuki expansion is {}.'.format(\n",
    "        ordinal(expansion_order), ef.run()['score']\n",
    "    ))"
   ]
  }
 ],
 "metadata": {
  "kernelspec": {
   "display_name": "quantum-dev",
   "language": "python",
   "name": "quantum-dev"
  },
  "language_info": {
   "codemirror_mode": {
    "name": "ipython",
    "version": 3
   },
   "file_extension": ".py",
   "mimetype": "text/x-python",
   "name": "python",
   "nbconvert_exporter": "python",
   "pygments_lexer": "ipython3",
   "version": "3.6.5"
  }
 },
 "nbformat": 4,
 "nbformat_minor": 2
}
