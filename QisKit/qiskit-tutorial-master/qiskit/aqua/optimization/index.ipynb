{
 "cells": [
  {
   "cell_type": "markdown",
   "metadata": {},
   "source": [
    "# Qiskit Aqua Optimization\n",
    "\n",
    "Qiskit Aqua Optimization is a set of tools, algorithms and software for use with quantum computers to \n",
    "carry out research and investigate how to take advantage of quantum computing power to solve optimization\n",
    "problems. \n",
    "\n",
    "## Contents\n",
    "\n",
    "* [Solve classical optimization](maxcut_and_tsp.ipynb) (MaxCut and Traveling Salesman Problem)\n",
    "* More examples can be found in [commuity/aqua/optimization](../../../community/aqua/optimization)"
   ]
  },
  {
   "cell_type": "code",
   "execution_count": null,
   "metadata": {
    "collapsed": true
   },
   "outputs": [],
   "source": []
  }
 ],
 "metadata": {
  "kernelspec": {
   "display_name": "quantum-dev",
   "language": "python",
   "name": "quantum-dev"
  },
  "language_info": {
   "codemirror_mode": {
    "name": "ipython",
    "version": 3
   },
   "file_extension": ".py",
   "mimetype": "text/x-python",
   "name": "python",
   "nbconvert_exporter": "python",
   "pygments_lexer": "ipython3",
   "version": "3.6.5"
  }
 },
 "nbformat": 4,
 "nbformat_minor": 2
}
