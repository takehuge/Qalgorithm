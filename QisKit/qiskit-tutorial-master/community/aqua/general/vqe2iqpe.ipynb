{
 "cells": [
  {
   "cell_type": "markdown",
   "metadata": {
    "collapsed": true
   },
   "source": [
    "## _*Using Algorithm Concatenation in Qiskit Aqua*_\n",
    "\n",
    "This notebook demonstrates how to use the `Qiskit Aqua` library to realize algorithm concatenation. In particular, we experiment with chaining the executions of VQE and IQPE by first running VQE and then preparing IQPE's initial state using the variational form as produced by VQE upon its termination."
   ]
  },
  {
   "cell_type": "code",
   "execution_count": 1,
   "metadata": {},
   "outputs": [],
   "source": [
    "import numpy as np\n",
    "from qiskit_aqua.input import get_input_instance\n",
    "from qiskit_aqua import Operator, run_algorithm, get_algorithm_instance, get_variational_form_instance, get_optimizer_instance\n",
    "from qiskit_aqua.algorithms.components.initial_states.varformbased import VarFormBased"
   ]
  },
  {
   "cell_type": "markdown",
   "metadata": {},
   "source": [
    "Here an Operator instance is created for our Hamiltonian, for which we are going to estimation the ground energy level. In this case the paulis are from a previously computed Hamiltonian for simplicity."
   ]
  },
  {
   "cell_type": "code",
   "execution_count": 2,
   "metadata": {},
   "outputs": [],
   "source": [
    "pauli_dict = {\n",
    "    'paulis': [{\"coeff\": {\"imag\": 0.0, \"real\": -1.052373245772859}, \"label\": \"II\"},\n",
    "              {\"coeff\": {\"imag\": 0.0, \"real\": 0.39793742484318045}, \"label\": \"ZI\"},\n",
    "              {\"coeff\": {\"imag\": 0.0, \"real\": -0.39793742484318045}, \"label\": \"IZ\"},\n",
    "              {\"coeff\": {\"imag\": 0.0, \"real\": -0.01128010425623538}, \"label\": \"ZZ\"},\n",
    "              {\"coeff\": {\"imag\": 0.0, \"real\": 0.18093119978423156}, \"label\": \"XX\"}\n",
    "              ]\n",
    "}\n",
    "\n",
    "qubitOp = Operator.load_from_dict(pauli_dict)"
   ]
  },
  {
   "cell_type": "markdown",
   "metadata": {},
   "source": [
    "We can now use the Operator without regard to how it was created. First we will use the ExactEigensolver to compute the reference ground energy level."
   ]
  },
  {
   "cell_type": "code",
   "execution_count": 3,
   "metadata": {},
   "outputs": [
    {
     "name": "stdout",
     "output_type": "stream",
     "text": [
      "The reference ground energy level is -1.857275030202382.\n"
     ]
    }
   ],
   "source": [
    "algorithm_cfg = {\n",
    "    'name': 'ExactEigensolver',\n",
    "}\n",
    "\n",
    "params = {\n",
    "    'algorithm': algorithm_cfg\n",
    "}\n",
    "algo_input = get_input_instance('EnergyInput')\n",
    "algo_input.qubit_op = qubitOp\n",
    "result_reference = run_algorithm(params,algo_input)\n",
    "print('The reference ground energy level is {}.'.format(result_reference['energy']))"
   ]
  },
  {
   "cell_type": "markdown",
   "metadata": {},
   "source": [
    "Having established the reference ground energy, we next carry on with our experiment. First we configure a VQE algorithm instance. The idea is that we can set an termination condition such that the VQE instance returns rather quickly with a rough estimation result."
   ]
  },
  {
   "cell_type": "code",
   "execution_count": 4,
   "metadata": {
    "scrolled": true
   },
   "outputs": [
    {
     "name": "stdout",
     "output_type": "stream",
     "text": [
      "VQE estimated the ground energy to be -1.7740092203003834.\n"
     ]
    }
   ],
   "source": [
    "np.random.seed(0)\n",
    "\n",
    "var_form_depth = 3\n",
    "var_form = get_variational_form_instance('RYRZ')\n",
    "var_form.init_args(algo_input.qubit_op.num_qubits, var_form_depth)\n",
    "\n",
    "spsa_max_trials=10\n",
    "optimizer = get_optimizer_instance('SPSA')\n",
    "optimizer.init_args(max_trials=spsa_max_trials)\n",
    "\n",
    "vqe_mode = 'paulis'\n",
    "vqe = get_algorithm_instance('VQE')\n",
    "vqe.setup_quantum_backend(backend='qasm_simulator')\n",
    "vqe.init_args(algo_input.qubit_op, vqe_mode, var_form, optimizer)\n",
    "\n",
    "result_vqe = vqe.run()\n",
    "print('VQE estimated the ground energy to be {}.'.format(result_vqe['energy']))"
   ]
  },
  {
   "cell_type": "markdown",
   "metadata": {},
   "source": [
    "As previously indicated, the energy estimation result is rather rough--it is far from being an acceptable final estimation figure. But, it is close enough such that the accompanying variational form might be a reasonably good approximation to the ground eigenstate, which means the corresponding wave function can serve as the initial state for the IQPE execution that follows. We next prepare such an initial state."
   ]
  },
  {
   "cell_type": "code",
   "execution_count": 5,
   "metadata": {},
   "outputs": [],
   "source": [
    "state_in = VarFormBased()\n",
    "state_in.init_args(var_form, result_vqe['opt_params'])"
   ]
  },
  {
   "cell_type": "markdown",
   "metadata": {},
   "source": [
    "With the VQE-generated quantum state wave function serving as the chaining piece and prepared as initial state, we now go ahead with configuring and running an IQPE instance."
   ]
  },
  {
   "cell_type": "code",
   "execution_count": 6,
   "metadata": {},
   "outputs": [
    {
     "name": "stdout",
     "output_type": "stream",
     "text": [
      "Continuing with VQE's result, IQPE estimated the ground energy to be -1.8531516030612387.\n"
     ]
    }
   ],
   "source": [
    "iqpe = get_algorithm_instance('IQPE')\n",
    "iqpe.setup_quantum_backend(backend='qasm_simulator', shots=100)\n",
    "\n",
    "num_time_slices = 50\n",
    "num_iterations = 11\n",
    "\n",
    "iqpe.init_args(\n",
    "    algo_input.qubit_op, state_in, num_time_slices, num_iterations,\n",
    "    paulis_grouping='random',\n",
    "    expansion_mode='suzuki',\n",
    "    expansion_order=2,\n",
    ")\n",
    "\n",
    "result_iqpe = iqpe.run()\n",
    "print(\"Continuing with VQE's result, IQPE estimated the ground energy to be {}.\".format(result_iqpe['energy']))"
   ]
  },
  {
   "cell_type": "markdown",
   "metadata": {},
   "source": [
    "As seen, the final ground energy estimation as produced by IQPE is much more accurate that the intermediate result as produced by VQE."
   ]
  }
 ],
 "metadata": {
  "kernelspec": {
   "display_name": "Python 3",
   "language": "python",
   "name": "python3"
  },
  "language_info": {
   "codemirror_mode": {
    "name": "ipython",
    "version": 3
   },
   "file_extension": ".py",
   "mimetype": "text/x-python",
   "name": "python",
   "nbconvert_exporter": "python",
   "pygments_lexer": "ipython3",
   "version": "3.6.5"
  }
 },
 "nbformat": 4,
 "nbformat_minor": 1
}
