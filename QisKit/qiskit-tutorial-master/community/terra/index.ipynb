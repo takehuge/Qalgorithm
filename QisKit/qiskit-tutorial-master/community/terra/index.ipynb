{
 "cells": [
  {
   "cell_type": "markdown",
   "metadata": {},
   "source": [
    "<img src=\"../../images/qiskit-heading.gif\" alt=\"Note: In order for images to show up in this jupyter notebook you need to select File => Trusted Notebook\" width=\"500 px\" align=\"left\">"
   ]
  },
  {
   "cell_type": "markdown",
   "metadata": {},
   "source": [
    "Welcome Qiskitters to Quantum Information Science with Qiskit Terra! Here we have a collection of great tutorials from our fantastic Qiskitters describing various quantum physics and computing concepts using Qiskit Terra.\n",
    "\n",
    "If you are new to quantum computing, we suggest starting with the following introductory tutorials, which introduce the qubit and the concepts of superposition and entanglement. Please note that these assume you know some linear algebra. \n",
    "* [Introductory Quantum Information Science](qis_intro)\n",
    "    - Single Qubits: [Superposition](qis_intro/superposition.ipynb)\n",
    "    - Single Qubits: [Amplitude and Phase](qis_intro/amplitude_and_phase.ipynb)\n",
    "    - Multiple Qubits: [Creating Entanglement](qis_intro/entanglement_introduction.ipynb)\n",
    "    - Multiple Qubits: [Testing Entanglement](qis_intro/entanglement_testing.ipynb)\n",
    "    - Multiple Qubits: [Teleportation and Superdense Coding](qis_intro/teleportation_superdensecoding.ipynb)\n",
    "\n",
    "Once you feel that you understand the basics, you can explore the advanced quantum information science or quantum error correction tutorials listed below (listed in alphabetical order), or move on and learn about [quantum algorithms with Qiskit Terra](../algorithms) and [quantum applications with Qiskit Aqua](../aqua).\n",
    "\n",
    "* [Advanced Quantum Information Science](qis_adv)\n",
    "\n",
    "    * [Entangled Measurement](qis_adv/entangled_measurement.ipynb)\n",
    "    * [Finite Automata](qis_adv/comparing_classical_and_quantum_finite_automata.ipynb)\n",
    "    * [Multi-Qubit W State Systems](qis_adv/Multi-Qubit_W_States_with_Tomography.ipynb)\n",
    "    * [Quantum Fourier Transform](qis_adv/fourier_transform.ipynb)\n",
    "    * [Quantum Magic Square](qis_adv/quantum_magic_square.ipynb) \n",
    "    * Quantum Random Access Coding: [Single Qubit](qis_adv/single-qubit_quantum_random_access_coding.ipynb) and [Two Qubit](two-qubit_state_quantum_random_access_coding.ipynb)\n",
    "    * [Topological Quantum Walks](qis_adv/topological_quantum_walk.ipynb)\n",
    "    * [Vaidman Detection Test](qis_adv/vaidman_detection_test.ipynb)\n",
    "\n",
    "<!-- space -->\n",
    "\n",
    "* [Quantum Error Correction](qec)\n",
    "\n",
    "Note that we have more tutorials than those listed above, however they have not been updated to Qiskit 0.6, so may not work. If you would like to contribute, updating an exisiting tutorial to add to the list would be great start, or you could create a new tutorial, perhaps an quantum error correction one...\n"
   ]
  },
  {
   "cell_type": "code",
   "execution_count": null,
   "metadata": {},
   "outputs": [],
   "source": []
  }
 ],
 "metadata": {
  "kernelspec": {
   "display_name": "Python [default]",
   "language": "python",
   "name": "python3"
  },
  "language_info": {
   "codemirror_mode": {
    "name": "ipython",
    "version": 3
   },
   "file_extension": ".py",
   "mimetype": "text/x-python",
   "name": "python",
   "nbconvert_exporter": "python",
   "pygments_lexer": "ipython3",
   "version": "3.6.4"
  }
 },
 "nbformat": 4,
 "nbformat_minor": 2
}
