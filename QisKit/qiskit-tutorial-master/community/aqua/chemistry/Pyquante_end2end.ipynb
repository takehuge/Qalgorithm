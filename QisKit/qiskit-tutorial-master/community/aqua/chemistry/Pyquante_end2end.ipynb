{
 "cells": [
  {
   "cell_type": "code",
   "execution_count": 1,
   "metadata": {},
   "outputs": [],
   "source": [
    "# import common packages\n",
    "import numpy as np\n",
    "\n",
    "import qiskit\n",
    "from qiskit import QuantumRegister, ClassicalRegister, QuantumCircuit\n",
    "\n",
    "# lib from Qiskit AQUA Chemistry\n",
    "from qiskit_aqua_chemistry import FermionicOperator\n",
    "\n",
    "# lib from optimizer and algorithm\n",
    "from qiskit_aqua.operator import Operator\n",
    "from qiskit_aqua import (get_algorithm_instance, get_optimizer_instance, get_variational_form_instance)\n",
    "\n",
    "# lib for driver\n",
    "from qiskit_aqua_chemistry.drivers import ConfigurationManager\n",
    "from collections import OrderedDict"
   ]
  },
  {
   "cell_type": "code",
   "execution_count": 2,
   "metadata": {
    "collapsed": true
   },
   "outputs": [],
   "source": [
    "# using driver to get fermionic Hamiltonian\n",
    "# PyQuante example\n",
    "cfg_mgr = ConfigurationManager()\n",
    "pyquante_cfg = OrderedDict([('atoms', 'H .0 .0 .0; H .0 .0 0.735'), ('units', 'Angstrom'), ('charge', 0), ('multiplicity', 1), ('basis', 'sto3g')])\n",
    "section = {}\n",
    "section['properties'] = pyquante_cfg\n",
    "driver = cfg_mgr.get_driver_instance('PYQUANTE')\n",
    "molecule = driver.run(section)\n",
    "h1 = molecule._one_body_integrals\n",
    "h2 = molecule._two_body_integrals"
   ]
  },
  {
   "cell_type": "code",
   "execution_count": 3,
   "metadata": {
    "collapsed": true
   },
   "outputs": [],
   "source": [
    "# convert from fermionic hamiltonian to qubit hamiltonian\n",
    "ferOp = FermionicOperator(h1=h1, h2=h2)\n",
    "qubitOp_jw = ferOp.mapping(map_type='JORDAN_WIGNER', threshold=0.00000001)\n",
    "qubitOp_pa = ferOp.mapping(map_type='PARITY', threshold=0.00000001)\n",
    "qubitOp_bi = ferOp.mapping(map_type='BRAVYI_KITAEV', threshold=0.00000001)"
   ]
  },
  {
   "cell_type": "code",
   "execution_count": 4,
   "metadata": {},
   "outputs": [
    {
     "name": "stdout",
     "output_type": "stream",
     "text": [
      "IIII\t(-0.8105479862761009+0j)\n",
      "ZIII\t(0.17218394273085644+0j)\n",
      "IZII\t(-0.2257535025154054+0j)\n",
      "IIZI\t(0.1721839427308564+0j)\n",
      "IIIZ\t(-0.2257535025154054+0j)\n",
      "IZZI\t(0.16614543338049353+0j)\n",
      "YYYY\t(0.045232799794893475+0j)\n",
      "YYXX\t(0.045232799794893475+0j)\n",
      "XXYY\t(0.045232799794893475+0j)\n",
      "XXXX\t(0.045232799794893475+0j)\n",
      "ZZII\t(0.12091263358560006+0j)\n",
      "ZIIZ\t(0.16614543338049353+0j)\n",
      "ZIZI\t(0.16892754048859018+0j)\n",
      "IZIZ\t(0.174643431424422+0j)\n",
      "IIZZ\t(0.12091263358560006+0j)\n",
      "\n",
      "  (1, 1)\t(-1.2563391003710798+0j)\n",
      "  (2, 2)\t(-0.4718959917502202+0j)\n",
      "  (3, 3)\t(-1.2445845577788999+0j)\n",
      "  (4, 4)\t(-1.2563391003710798+0j)\n",
      "  (5, 5)\t(-1.8369680387877996+0j)\n",
      "  (5, 10)\t(0.1809311991795739+0j)\n",
      "  (6, 6)\t(-1.0636533585993264+0j)\n",
      "  (6, 9)\t(0.1809311991795739+0j)\n",
      "  (7, 7)\t(-1.1606317626736458+0j)\n",
      "  (8, 8)\t(-0.47189599175021985+0j)\n",
      "  (9, 6)\t(0.1809311991795739+0j)\n",
      "  (9, 9)\t(-1.0636533585993264+0j)\n",
      "  (10, 5)\t(0.1809311991795739+0j)\n",
      "  (10, 10)\t(-0.2452182578027522+0j)\n",
      "  (11, 11)\t(-0.35332509030945825+0j)\n",
      "  (12, 12)\t(-1.2445845577788999+0j)\n",
      "  (13, 13)\t(-1.1606317626736458+0j)\n",
      "  (14, 14)\t(-0.35332509030945836+0j)\n",
      "  (15, 15)\t(0.21427823913819624+0j)\n",
      "The exact ground state energy is: -1.8572750766378752\n"
     ]
    }
   ],
   "source": [
    "# print out qubit hamiltonian in Pauli terms and exact solution\n",
    "\n",
    "qubitOp_jw.convert('paulis','matrix')\n",
    "qubitOp_jw.chop(10**-10)\n",
    "\n",
    "print(qubitOp_jw.print_operators())\n",
    "print(qubitOp_jw.matrix)\n",
    "\n",
    "# Using exact eigensolver to get the smallest eigenvalue\n",
    "exact_eigensolver = get_algorithm_instance('ExactEigensolver')\n",
    "exact_eigensolver.init_args(qubitOp_jw, k=1)\n",
    "ret = exact_eigensolver.run()\n",
    "print('The exact ground state energy is: {}'.format(ret['energy']))    "
   ]
  },
  {
   "cell_type": "code",
   "execution_count": 5,
   "metadata": {},
   "outputs": [
    {
     "name": "stdout",
     "output_type": "stream",
     "text": [
      "Minimum value: -1.8572750764933232\n",
      "Parameters: [-2.11901756e+00  1.41323639e+00  2.51387300e+00 -3.13978348e+00\n",
      " -2.82577526e+00  2.70457462e+00  1.20214170e-01  1.07093537e+00\n",
      "  1.09731868e+00 -1.90329651e+00  2.16009766e+00  1.56901864e+00\n",
      "  3.13125831e+00 -3.11613989e-04  2.32391406e+00  2.36493298e+00]\n"
     ]
    }
   ],
   "source": [
    "# setup VQE \n",
    "# setup optimizer, use L_BFGS_B optimizer for example\n",
    "lbfgs = get_optimizer_instance('L_BFGS_B')\n",
    "lbfgs.set_options(maxfun=1000, factr=10, iprint=10)\n",
    "# setup variation form generator (generate trial circuits for VQE)\n",
    "var_form = get_variational_form_instance('RY')\n",
    "var_form.init_args(qubitOp_jw.num_qubits, 3, entangler_map = {0: [1], 1:[2], 2:[3]})\n",
    "\n",
    "# setup VQE with operator, variation form, and optimzer\n",
    "vqe_algorithm = get_algorithm_instance('VQE')\n",
    "vqe_algorithm.setup_quantum_backend()\n",
    "vqe_algorithm.init_args(qubitOp_jw, 'matrix', var_form, lbfgs)\n",
    "results = vqe_algorithm.run()\n",
    "print(\"Minimum value: {}\".format(results['eigvals'][0]))\n",
    "print(\"Parameters: {}\".format(results['opt_params']))"
   ]
  },
  {
   "cell_type": "code",
   "execution_count": null,
   "metadata": {
    "collapsed": true
   },
   "outputs": [],
   "source": []
  }
 ],
 "metadata": {
  "kernelspec": {
   "display_name": "Python 3",
   "language": "python",
   "name": "python3"
  },
  "language_info": {
   "codemirror_mode": {
    "name": "ipython",
    "version": 3
   },
   "file_extension": ".py",
   "mimetype": "text/x-python",
   "name": "python",
   "nbconvert_exporter": "python",
   "pygments_lexer": "ipython3",
   "version": "3.6.5"
  }
 },
 "nbformat": 4,
 "nbformat_minor": 1
}
