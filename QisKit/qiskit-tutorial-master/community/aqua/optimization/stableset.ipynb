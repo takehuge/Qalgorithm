{
 "cells": [
  {
   "cell_type": "markdown",
   "metadata": {
    "collapsed": true
   },
   "source": [
    "## _*Using Qiskit Aqua for stableset problems*_\n",
    "\n",
    "This Qiskit Aqua Optimization notebook demonstrates how to use the VQE algorithm to compute the maximum stable set of a given graph.  \n",
    "\n",
    "The problem is defined as follows. Given a graph $G = (V,E)$, we want to compute $S \\subseteq V$ such that there do not exist $i, j \\in S : (i, j) \\in E$, and $|S|$ is maximized. In other words, we are looking for a maximum cardinality set of mutually non-adjacent vertices.\n",
    "\n",
    "The graph provided as an input is used first to generate an Ising Hamiltonian, which is then passed as an input to VQE.  As a reference, this notebook also computes the maximum stable set using the Exact Eigensolver classical algorithm and the solver embedded in the commercial IBM CPLEX product (if it is available in the system and the user has followed the necessary configuration steps in order for Qiskit Aqua to find it).  Please refer to the Qiskit Aqua Optimization documentation for installation and configuration details for CPLEX."
   ]
  },
  {
   "cell_type": "code",
   "execution_count": 1,
   "metadata": {},
   "outputs": [],
   "source": [
    "from qiskit_aqua import Operator, run_algorithm, get_algorithm_instance\n",
    "from qiskit_aqua.input import get_input_instance\n",
    "from qiskit_aqua.translators.ising import stableset\n",
    "import numpy as np"
   ]
  },
  {
   "cell_type": "markdown",
   "metadata": {},
   "source": [
    "Here an Operator instance is created for our Hamiltonian. In this case the Paulis are from an Ising Hamiltonian of the maximum stable set problem (expressed in minimization form). We load a small instance of the maximum stable set problem."
   ]
  },
  {
   "cell_type": "code",
   "execution_count": 2,
   "metadata": {},
   "outputs": [],
   "source": [
    "w = stableset.parse_gset_format('sample.maxcut')\n",
    "qubitOp, offset = stableset.get_stableset_qubitops(w)\n",
    "algo_input = get_input_instance('EnergyInput')\n",
    "algo_input.qubit_op = qubitOp"
   ]
  },
  {
   "cell_type": "markdown",
   "metadata": {},
   "source": [
    "We also offer a function to generate a random graph as a input."
   ]
  },
  {
   "cell_type": "code",
   "execution_count": 3,
   "metadata": {},
   "outputs": [
    {
     "name": "stdout",
     "output_type": "stream",
     "text": [
      "[[0. 1. 1. 1. 0.]\n",
      " [1. 0. 0. 0. 1.]\n",
      " [1. 0. 0. 1. 1.]\n",
      " [1. 0. 1. 0. 0.]\n",
      " [0. 1. 1. 0. 0.]]\n"
     ]
    }
   ],
   "source": [
    "if True:\n",
    "    np.random.seed(8123179)\n",
    "    w = stableset.random_graph(5, edge_prob=0.5)\n",
    "    qubitOp, offset = stableset.get_stableset_qubitops(w)\n",
    "    algo_input.qubit_op = qubitOp\n",
    "print(w)"
   ]
  },
  {
   "cell_type": "markdown",
   "metadata": {},
   "source": [
    "Here we test for the presence of algorithms we want to use in this notebook. If Aqua is installed correctly `ExactEigensolver` and `VQE` will always be found. `CPLEX.Ising` is dependent on IBM CPLEX being installed (see introduction above). CPLEX is *not required* but if installed then this notebook will demonstrate the `CPLEX.Ising` algorithm , that uses CPLEX, to compute stable set as well."
   ]
  },
  {
   "cell_type": "code",
   "execution_count": 4,
   "metadata": {},
   "outputs": [
    {
     "name": "stdout",
     "output_type": "stream",
     "text": [
      "['ExactEigensolver', 'CPLEX.Ising', 'VQE']\n"
     ]
    }
   ],
   "source": [
    "to_be_tested_algos = ['ExactEigensolver', 'CPLEX.Ising', 'VQE']\n",
    "operational_algos = []\n",
    "for algo in to_be_tested_algos:\n",
    "    try:\n",
    "        get_algorithm_instance(algo)\n",
    "        operational_algos.append(algo)\n",
    "    except:\n",
    "        print(\"{} is unavailable and will be skipped.\".format(algo))\n",
    "print(operational_algos)"
   ]
  },
  {
   "cell_type": "markdown",
   "metadata": {},
   "source": [
    "We can now use the Operator without regard to how it was created. First we need to prepare the configuration params to invoke the algorithm. Here we will use the ExactEigensolver first to return the smallest eigenvalue. Backend is not required since this is computed classically not using quantum computation. We then add in the qubitOp Operator in dictionary format. Now the complete params can be passed to the algorithm and run. The result is a dictionary."
   ]
  },
  {
   "cell_type": "code",
   "execution_count": 5,
   "metadata": {},
   "outputs": [
    {
     "name": "stdout",
     "output_type": "stream",
     "text": [
      "energy: -5.5\n",
      "stable set objective: -2.0\n",
      "solution: [0. 1. 1. 0. 0.]\n",
      "solution objective and feasibility: (2.0, True)\n"
     ]
    }
   ],
   "source": [
    "if 'ExactEigensolver' not in operational_algos:\n",
    "    print(\"ExactEigensolver is not in operational algorithms.\")\n",
    "else:\n",
    "    algorithm_cfg = {\n",
    "        'name': 'ExactEigensolver',\n",
    "    }\n",
    "\n",
    "    params = {\n",
    "        'problem': {'name': 'ising'},\n",
    "        'algorithm': algorithm_cfg\n",
    "    }\n",
    "    result = run_algorithm(params,algo_input)\n",
    "\n",
    "    x = stableset.sample_most_likely(result['eigvecs'][0])\n",
    "    print('energy:', result['energy'])\n",
    "    print('stable set objective:', result['energy'] + offset)\n",
    "    print('solution:', stableset.get_graph_solution(x))\n",
    "    print('solution objective and feasibility:', stableset.stableset_value(x, w))\n"
   ]
  },
  {
   "cell_type": "markdown",
   "metadata": {},
   "source": [
    "*Note*: IBM CPLEX is an _optional_ installation addition for Aqua. If installed then the Aqua CPLEX.Ising algorithm will be able to be used. If not, then solving this problem using this particular algorithm will simply be skipped.\n",
    "\n",
    "We change the configuration parameters to solve it with the CPLEX backend. The CPLEX backend can deal with a particular type of Hamiltonian called Ising Hamiltonian, which consists of only Pauli Z at most second order and can be used for combinatorial optimization problems that can be formulated as quadratic unconstrained binary optimization problems, such as the stable set problem. Note that we may obtain a different solution - but if the objective value is the same as above, the solution will be optimal."
   ]
  },
  {
   "cell_type": "code",
   "execution_count": 6,
   "metadata": {},
   "outputs": [
    {
     "name": "stdout",
     "output_type": "stream",
     "text": [
      "CPXPARAM_TimeLimit                               600\n",
      "CPXPARAM_Read_DataCheck                          1\n",
      "CPXPARAM_Threads                                 1\n",
      "CPXPARAM_MIP_Tolerances_Integrality              0\n",
      "CPXPARAM_MIP_Display                             0\n",
      "energy: -5.5\n",
      "time: 0.009991101978812367\n",
      "stable set objective: -2.0\n",
      "solution: [0 0 0 1 1]\n",
      "solution objective and feasibility: (2, True)\n"
     ]
    }
   ],
   "source": [
    "if 'CPLEX.Ising' not in operational_algos:\n",
    "    print(\"CPLEX.Ising is not in operational algorithms.\")\n",
    "else:\n",
    "    algorithm_cfg = {\n",
    "        'name': 'CPLEX.Ising',\n",
    "        'display': 0\n",
    "    }\n",
    "\n",
    "    params = {\n",
    "        'problem': {'name': 'ising'},\n",
    "        'algorithm': algorithm_cfg\n",
    "    }\n",
    "\n",
    "    result = run_algorithm(params, algo_input)\n",
    "\n",
    "    x_dict = result['x_sol']\n",
    "    print('energy:', result['energy'])\n",
    "    print('time:', result['eval_time'])\n",
    "    print('stable set objective:', result['energy'] + offset)\n",
    "    x = np.array([x_dict[i] for i in sorted(x_dict.keys())])\n",
    "    print('solution:', stableset.get_graph_solution(x))\n",
    "    print('solution objective and feasibility:', stableset.stableset_value(x, w))\n"
   ]
  },
  {
   "cell_type": "markdown",
   "metadata": {},
   "source": [
    "Now we want VQE and so change it and add its other configuration parameters. VQE also needs and optimizer and variational form. While we can omit them from the dictionary, such that defaults are used, here we specify them explicitly so we can set their parameters as we desire."
   ]
  },
  {
   "cell_type": "code",
   "execution_count": 7,
   "metadata": {},
   "outputs": [
    {
     "name": "stdout",
     "output_type": "stream",
     "text": [
      "energy: -5.499999999922404\n",
      "time: 118.47803401947021\n",
      "stable set objective: -1.9999999999224043\n",
      "solution: [0. 0. 0. 0. 0.]\n",
      "solution objective and feasibility: (0.0, True)\n"
     ]
    }
   ],
   "source": [
    "if 'VQE' not in operational_algos:\n",
    "    print(\"VQE is not in operational algorithms.\")\n",
    "else:\n",
    "    algorithm_cfg = {\n",
    "        'name': 'VQE',\n",
    "        'operator_mode': 'matrix'\n",
    "    }\n",
    "\n",
    "    optimizer_cfg = {\n",
    "        'name': 'L_BFGS_B',\n",
    "        'maxfun': 2000\n",
    "    }\n",
    "\n",
    "    var_form_cfg = {\n",
    "        'name': 'RYRZ',\n",
    "        'depth': 3,\n",
    "        'entanglement': 'linear'\n",
    "    }\n",
    "\n",
    "    params = {\n",
    "        'problem': {'name': 'ising'},\n",
    "        'algorithm': algorithm_cfg,\n",
    "        'optimizer': optimizer_cfg,\n",
    "        'variational_form': var_form_cfg,\n",
    "        'backend': {'name': 'statevector_simulator'}\n",
    "    }\n",
    "\n",
    "    result = run_algorithm(params,algo_input)\n",
    "\n",
    "    x = stableset.sample_most_likely(result['eigvecs'][0])\n",
    "    print('energy:', result['energy'])\n",
    "    print('time:', result['eval_time'])\n",
    "    print('stable set objective:', result['energy'] + offset)\n",
    "    print('solution:', stableset.get_graph_solution(x))\n",
    "    print('solution objective and feasibility:', stableset.stableset_value(x, w))"
   ]
  },
  {
   "cell_type": "code",
   "execution_count": null,
   "metadata": {
    "collapsed": true
   },
   "outputs": [],
   "source": []
  }
 ],
 "metadata": {
  "kernelspec": {
   "display_name": "Python 3",
   "language": "python",
   "name": "python3"
  },
  "language_info": {
   "codemirror_mode": {
    "name": "ipython",
    "version": 3
   },
   "file_extension": ".py",
   "mimetype": "text/x-python",
   "name": "python",
   "nbconvert_exporter": "python",
   "pygments_lexer": "ipython3",
   "version": "3.6.6"
  }
 },
 "nbformat": 4,
 "nbformat_minor": 1
}
