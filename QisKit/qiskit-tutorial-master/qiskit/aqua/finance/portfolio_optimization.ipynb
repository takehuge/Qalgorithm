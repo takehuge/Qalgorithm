{
 "cells": [
  {
   "cell_type": "markdown",
   "metadata": {},
   "source": [
    "<img src=\"../../../images/qiskit-heading.gif\" alt=\"Note: In order for images to show up in this jupyter notebook you need to select File => Trusted Notebook\" width=\"500 px\" align=\"left\">"
   ]
  },
  {
   "cell_type": "markdown",
   "metadata": {
    "collapsed": true
   },
   "source": [
    "# _*Qiskit Aqua: Financial Portfolio Optimization*_ \n",
    "\n",
    "The latest version of this notebook is available on https://github.com/Qiskit/qiskit-tutorial.\n",
    "\n",
    "***\n",
    "### Contributors\n",
    "Stefan Worner<sup>[1]</sup>, Daniel Egger<sup>[1]</sup>, Shaohan Hu<sup>[1]</sup>, Stephen Wood<sup>[1]</sup>, Marco Pistoia<sup>[1]</sup>\n",
    "### Affliation\n",
    "- <sup>[1]</sup>IBMQ"
   ]
  },
  {
   "cell_type": "markdown",
   "metadata": {},
   "source": [
    "### Introduction\n",
    "\n",
    "This tutorial shows how to solve the following mean-variance portfolio optimization problem for $n$ assets:\n",
    "\n",
    "$\\begin{aligned}\n",
    "\\min_{x \\in \\{0, 1\\}^n}  q x^T \\Sigma x - \\mu^T x\\\\\n",
    "\\text{subject to: } 1^T x = B\n",
    "\\end{aligned}$\n",
    "\n",
    "where we use the following notation:\n",
    "\n",
    "- $x \\in \\{0, 1\\}^n$ denotes the vector of binary decision variables, which indicate which assets to pick ($x[i] = 1$) and which not to pick ($x[i] = 0$),\n",
    "- $\\mu \\in \\mathbb{R}^n$ defines the expected returns for the assets,\n",
    "- $\\Sigma \\in \\mathbb{R}^{n \\times n}$ specifies the covariances between the assets,\n",
    "- $q > 0$ controls the risk appetite of the decision maker,\n",
    "- and $B$ denotes the budget, i.e. the number of assets to be selected out of $n$.\n",
    "\n",
    "We assume the following simplifications:\n",
    "- all assets have the same price (normalized to 1),\n",
    "- the full budget $B$ has to be spent, i.e. one has to select exactly $B$ assets.\n",
    "\n",
    "The equality constraint $1^T x = B$ is mapped to a penalty term $(1^T x - B)^2$ which is scaled by a parameter and subtracted from the objective function. \n",
    "The resulting problem can be mapped to a Hamiltonian whose groundstate corresponds to  the optimal solution.\n",
    "This notebook shows how to use the Variational Quantum Eigensolver (VQE) or the Quantum Approximate Optimization Algorithm (QAOA) to find the optimal solution for a given set of parameters."
   ]
  },
  {
   "cell_type": "code",
   "execution_count": 1,
   "metadata": {
    "collapsed": true
   },
   "outputs": [],
   "source": [
    "from qiskit_aqua import Operator, run_algorithm\n",
    "from qiskit_aqua.input import get_input_instance\n",
    "from qiskit_aqua.translators.ising import portfolio\n",
    "import numpy as np"
   ]
  },
  {
   "cell_type": "markdown",
   "metadata": {},
   "source": [
    "### [Optional] Setup token to run the experiment on a real device\n",
    "If you would like to run the experiement on a real device, you need to setup your account first.\n",
    "\n",
    "Note: If you do not store your token yet, use `IBMQ.save_accounts()` to store it first."
   ]
  },
  {
   "cell_type": "code",
   "execution_count": 2,
   "metadata": {
    "collapsed": true
   },
   "outputs": [],
   "source": [
    "from qiskit import IBMQ\n",
    "IBMQ.load_accounts()"
   ]
  },
  {
   "cell_type": "markdown",
   "metadata": {},
   "source": [
    "Here an Operator instance is created for our Hamiltonian. In this case the paulis are from an Ising Hamiltonian translated from the portfolio problem. We use a random portfolio problem for this notebook."
   ]
  },
  {
   "cell_type": "code",
   "execution_count": 3,
   "metadata": {
    "collapsed": true
   },
   "outputs": [],
   "source": [
    "# set number of assets (= number of qubits)\n",
    "num_assets = 4\n",
    "# get random expected return vector (mu) and covariance matrix (sigma)\n",
    "mu, sigma = portfolio.random_model(num_assets, seed=42)\n",
    "\n",
    "q = 0.5 # set risk factor\n",
    "budget = int(num_assets / 2) # set budget\n",
    "penalty = num_assets # set parameter to scale the budget penalty term\n",
    "\n",
    "qubitOp, offset = portfolio.get_portfolio_qubitops(mu, sigma, q, budget, penalty)\n",
    "algo_input = get_input_instance('EnergyInput')\n",
    "algo_input.qubit_op = qubitOp"
   ]
  },
  {
   "cell_type": "markdown",
   "metadata": {},
   "source": [
    "We define some utility methods to print the results in a nice format."
   ]
  },
  {
   "cell_type": "code",
   "execution_count": 4,
   "metadata": {
    "collapsed": true
   },
   "outputs": [],
   "source": [
    "def index_to_selection(i, num_assets):\n",
    "    s = \"{0:b}\".format(i).rjust(num_assets)\n",
    "    x = np.array([1 if s[i]=='1' else 0 for i in reversed(range(num_assets))])\n",
    "    return x\n",
    "\n",
    "def print_result(result):\n",
    "    selection = portfolio.sample_most_likely(result['eigvecs'][0])\n",
    "    value = portfolio.portfolio_value(selection, mu, sigma, q, budget, penalty)\n",
    "    print('Optimal: selection {}, value {:.4f}'.format(selection, value))\n",
    "\n",
    "    probabilities = np.abs(result['eigvecs'][0])**2\n",
    "    i_sorted = reversed(np.argsort(probabilities))\n",
    "    print('\\n----------------- Full result ---------------------')\n",
    "    print('selection\\tvalue\\t\\tprobability')\n",
    "    print('---------------------------------------------------')\n",
    "    for i in i_sorted:\n",
    "        x = index_to_selection(i, num_assets)\n",
    "        value = portfolio.portfolio_value(x, mu, sigma, q, budget, penalty)    \n",
    "        probability = probabilities[i]\n",
    "        print('%10s\\t%.4f\\t\\t%.4f' %(x, value, probability))"
   ]
  },
  {
   "cell_type": "markdown",
   "metadata": {},
   "source": [
    "### ExactEigensolver (as a classical reference)\n",
    "Lets solve the problem. First classically...\n",
    "\n",
    "We can now use the Operator we built above without regard to the specifics of how it was created. To run an algorithm we need to prepare a configuration params dictionary. We set the algorithm for the ExactEigensolver so we can have a classical reference. The problem is set for 'ising'. Backend is not required since this is computed classically not using quantum computation. The params, along with the algo input containing the operator, are now passed to the algorithm to be run. The result is returned as a dictionary."
   ]
  },
  {
   "cell_type": "code",
   "execution_count": 5,
   "metadata": {},
   "outputs": [
    {
     "name": "stdout",
     "output_type": "stream",
     "text": [
      "Optimal: selection [0 0 1 1], value -0.7012\n",
      "\n",
      "----------------- Full result ---------------------\n",
      "selection\tvalue\t\tprobability\n",
      "---------------------------------------------------\n",
      " [0 0 1 1]\t-0.7012\t\t1.0000\n",
      " [1 1 1 1]\t15.6136\t\t0.0000\n",
      " [0 1 1 1]\t4.9012\t\t0.0000\n",
      " [1 0 1 1]\t3.0617\t\t0.0000\n",
      " [1 1 0 1]\t4.6445\t\t0.0000\n",
      " [0 1 0 1]\t2.1421\t\t0.0000\n",
      " [1 0 0 1]\t-0.4158\t\t0.0000\n",
      " [0 0 0 1]\t4.0314\t\t0.0000\n",
      " [1 1 1 0]\t2.6688\t\t0.0000\n",
      " [0 1 1 0]\t-0.5149\t\t0.0000\n",
      " [1 0 1 0]\t-0.2876\t\t0.0000\n",
      " [0 0 1 0]\t3.4782\t\t0.0000\n",
      " [1 1 0 0]\t-0.5110\t\t0.0000\n",
      " [0 1 0 0]\t4.5153\t\t0.0000\n",
      " [1 0 0 0]\t4.0242\t\t0.0000\n",
      " [0 0 0 0]\t16.0000\t\t0.0000\n"
     ]
    }
   ],
   "source": [
    "algorithm_cfg = {\n",
    "    'name': 'ExactEigensolver'\n",
    "}\n",
    "\n",
    "params = {\n",
    "    'problem': {'name': 'ising'},\n",
    "    'algorithm': algorithm_cfg\n",
    "}\n",
    "result = run_algorithm(params, algo_input)\n",
    "print_result(result)"
   ]
  },
  {
   "cell_type": "markdown",
   "metadata": {},
   "source": [
    "### Solution using VQE\n",
    "We can now use the Variational Quantum Eigensolver (VQE) to solve the problem. We will specify the optimizer and variational form to be used.\n",
    "\n",
    "Note: You can switch to different backends by providing the name of backend."
   ]
  },
  {
   "cell_type": "code",
   "execution_count": 6,
   "metadata": {},
   "outputs": [
    {
     "name": "stdout",
     "output_type": "stream",
     "text": [
      "Optimal: selection [0 0 1 1], value -0.7012\n",
      "\n",
      "----------------- Full result ---------------------\n",
      "selection\tvalue\t\tprobability\n",
      "---------------------------------------------------\n",
      " [0 0 1 1]\t-0.7012\t\t1.0000\n",
      " [0 1 1 0]\t-0.5149\t\t0.0000\n",
      " [1 0 1 0]\t-0.2876\t\t0.0000\n",
      " [1 0 1 1]\t3.0617\t\t0.0000\n",
      " [1 1 1 0]\t2.6688\t\t0.0000\n",
      " [0 0 1 0]\t3.4782\t\t0.0000\n",
      " [0 0 0 1]\t4.0314\t\t0.0000\n",
      " [1 0 0 1]\t-0.4158\t\t0.0000\n",
      " [1 1 1 1]\t15.6136\t\t0.0000\n",
      " [0 1 1 1]\t4.9012\t\t0.0000\n",
      " [0 1 0 1]\t2.1421\t\t0.0000\n",
      " [0 0 0 0]\t16.0000\t\t0.0000\n",
      " [1 1 0 0]\t-0.5110\t\t0.0000\n",
      " [1 0 0 0]\t4.0242\t\t0.0000\n",
      " [0 1 0 0]\t4.5153\t\t0.0000\n",
      " [1 1 0 1]\t4.6445\t\t0.0000\n"
     ]
    }
   ],
   "source": [
    "algorithm_cfg = {\n",
    "    'name': 'VQE',\n",
    "    'operator_mode': 'matrix'\n",
    "}\n",
    "\n",
    "optimizer_cfg = {\n",
    "    'name': 'COBYLA',\n",
    "    'maxiter': 25000\n",
    "}\n",
    "\n",
    "var_form_cfg = {\n",
    "    'name': 'RYRZ',\n",
    "    'depth': 3,\n",
    "    'entanglement': 'full'\n",
    "}\n",
    "\n",
    "params = {\n",
    "    'problem': {'name': 'ising', 'random_seed': 50},\n",
    "    'algorithm': algorithm_cfg,\n",
    "    'optimizer': optimizer_cfg,\n",
    "    'variational_form': var_form_cfg,\n",
    "    'backend': {'name': 'statevector_simulator'}\n",
    "}\n",
    "result = run_algorithm(params, algo_input)\n",
    "print_result(result)"
   ]
  },
  {
   "cell_type": "markdown",
   "metadata": {},
   "source": [
    "### Solution using QAOA\n",
    "\n",
    "We also show here a result using the Quantum Approximate Optimization Algorithm (QAOA). This is another variational algorithm and it uses an internal variational form that is created based on the problem."
   ]
  },
  {
   "cell_type": "code",
   "execution_count": 7,
   "metadata": {},
   "outputs": [
    {
     "name": "stdout",
     "output_type": "stream",
     "text": [
      "Optimal: selection [0 0 1 1], value -0.7012\n",
      "\n",
      "----------------- Full result ---------------------\n",
      "selection\tvalue\t\tprobability\n",
      "---------------------------------------------------\n",
      " [0 0 1 1]\t-0.7012\t\t0.1956\n",
      " [1 1 0 0]\t-0.5110\t\t0.1838\n",
      " [1 0 0 1]\t-0.4158\t\t0.1825\n",
      " [0 1 1 0]\t-0.5149\t\t0.1811\n",
      " [1 0 1 0]\t-0.2876\t\t0.1636\n",
      " [0 1 0 1]\t2.1421\t\t0.0713\n",
      " [1 1 1 0]\t2.6688\t\t0.0115\n",
      " [1 0 1 1]\t3.0617\t\t0.0050\n",
      " [0 0 1 0]\t3.4782\t\t0.0016\n",
      " [0 0 0 1]\t4.0314\t\t0.0012\n",
      " [1 0 0 0]\t4.0242\t\t0.0008\n",
      " [0 1 1 1]\t4.9012\t\t0.0008\n",
      " [0 1 0 0]\t4.5153\t\t0.0005\n",
      " [1 1 0 1]\t4.6445\t\t0.0005\n",
      " [1 1 1 1]\t15.6136\t\t0.0001\n",
      " [0 0 0 0]\t16.0000\t\t0.0000\n"
     ]
    }
   ],
   "source": [
    "algorithm_cfg = {\n",
    "    'name': 'QAOA.Variational',\n",
    "    'p': 4,\n",
    "    'operator_mode': 'matrix'\n",
    "}\n",
    "\n",
    "optimizer_cfg = {\n",
    "    'name': 'COBYLA',\n",
    "    'maxiter': 2500\n",
    "}\n",
    "\n",
    "params = {\n",
    "    'problem': {'name': 'ising', 'random_seed': 50},\n",
    "    'algorithm': algorithm_cfg,\n",
    "    'optimizer': optimizer_cfg,\n",
    "    'backend': {'name': 'statevector_simulator'}\n",
    "}\n",
    "result = run_algorithm(params, algo_input)\n",
    "print_result(result)"
   ]
  }
 ],
 "metadata": {
  "kernelspec": {
   "display_name": "Quantum",
   "language": "python",
   "name": "quantum"
  },
  "language_info": {
   "codemirror_mode": {
    "name": "ipython",
    "version": 3
   },
   "file_extension": ".py",
   "mimetype": "text/x-python",
   "name": "python",
   "nbconvert_exporter": "python",
   "pygments_lexer": "ipython3",
   "version": "3.6.3"
  }
 },
 "nbformat": 4,
 "nbformat_minor": 1
}
