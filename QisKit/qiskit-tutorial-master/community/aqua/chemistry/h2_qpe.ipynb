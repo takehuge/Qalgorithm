{
 "cells": [
  {
   "cell_type": "markdown",
   "metadata": {},
   "source": [
    "## _*H2 ground state energy computation using Quantum Phase Estimation*_\n",
    "\n",
    "This notebook demonstrates using Qiskit Aqua Chemistry to compute ground state energy of the Hydrogen (H2) molecule using QPE (Quantum Phase Estimation) algorithm. It is compared to the same energy as computed by the ExactEigensolver\n",
    "\n",
    "This notebook populates a dictionary, that is a progammatic representation of an input file, in order to drive the qiskit_aqua_chemistry stack. Such a dictionary can be manipulated programmatically. An sibling notebook `h2_iqpe` is also provided, which showcases how the ground state energies over a range of inter-atomic distances can be computed and then plotted as well.\n",
    "\n",
    "This notebook has been written to use the PYSCF chemistry driver. See the PYSCF chemistry driver readme if you need to install the external PySCF library that this driver requires."
   ]
  },
  {
   "cell_type": "code",
   "execution_count": 1,
   "metadata": {},
   "outputs": [],
   "source": [
    "from qiskit_aqua_chemistry import AquaChemistry\n",
    "import time\n",
    "\n",
    "distance = 0.735\n",
    "molecule = 'H .0 .0 0; H .0 .0 {}'.format(distance)\n",
    "\n",
    "# Input dictionary to configure Qiskit Aqua Chemistry for the chemistry problem.\n",
    "aqua_chemistry_qpe_dict = {\n",
    "    'driver': {'name': 'PYSCF'},\n",
    "    'PYSCF': {\n",
    "        'atom': molecule, \n",
    "        'basis': 'sto3g'\n",
    "    },\n",
    "    'operator': {'name': 'hamiltonian', 'transformation': 'full', 'qubit_mapping': 'parity'},\n",
    "    'algorithm': {\n",
    "        'name': 'QPE',\n",
    "        'num_ancillae': 9,\n",
    "        'num_time_slices': 50,\n",
    "        'expansion_mode': 'suzuki',\n",
    "        'expansion_order': 2,\n",
    "    },\n",
    "    'initial_state': {'name': 'HartreeFock'},\n",
    "    'backend': {\n",
    "        'name': 'qasm_simulator',\n",
    "        'shots': 100,\n",
    "    }\n",
    "}\n",
    "\n",
    "aqua_chemistry_ees_dict = {\n",
    "    'driver': {'name': 'PYSCF'},\n",
    "    'PYSCF': {'atom': molecule, 'basis': 'sto3g'},\n",
    "    'operator': {'name': 'hamiltonian', 'transformation': 'full', 'qubit_mapping': 'parity'},\n",
    "    'algorithm': {\n",
    "        'name': 'ExactEigensolver',\n",
    "    },\n",
    "}"
   ]
  },
  {
   "cell_type": "markdown",
   "metadata": {},
   "source": [
    "With the two algorithms configured, we can then run them and check the results, as follows."
   ]
  },
  {
   "cell_type": "code",
   "execution_count": 2,
   "metadata": {},
   "outputs": [
    {
     "name": "stdout",
     "output_type": "stream",
     "text": [
      "--- computation completed in 55.49299883842468 seconds ---\n"
     ]
    }
   ],
   "source": [
    "start_time = time.time()\n",
    "result_qpe = AquaChemistry().run(aqua_chemistry_qpe_dict)\n",
    "result_ees = AquaChemistry().run(aqua_chemistry_ees_dict)\n",
    "print(\"--- computation completed in %s seconds ---\" % (time.time() - start_time))"
   ]
  },
  {
   "cell_type": "code",
   "execution_count": 3,
   "metadata": {},
   "outputs": [
    {
     "name": "stdout",
     "output_type": "stream",
     "text": [
      "The groundtruth total ground state energy is           -1.137306035753399.\n",
      "The total ground state energy as computed by QPE is    -1.1371678808769068.\n",
      "In comparison, the Hartree-Fock ground state energy is -1.1169989967540044.\n"
     ]
    }
   ],
   "source": [
    "print('The groundtruth total ground state energy is           {}.'.format(\n",
    "    result_ees['energy']\n",
    "))\n",
    "print('The total ground state energy as computed by QPE is    {}.'.format(\n",
    "    result_qpe['energy']\n",
    "))\n",
    "print('In comparison, the Hartree-Fock ground state energy is {}.'.format(\n",
    "    result_ees['hf_energy']\n",
    "))\n"
   ]
  }
 ],
 "metadata": {
  "kernelspec": {
   "display_name": "Python 3",
   "language": "python",
   "name": "python3"
  },
  "language_info": {
   "codemirror_mode": {
    "name": "ipython",
    "version": 3
   },
   "file_extension": ".py",
   "mimetype": "text/x-python",
   "name": "python",
   "nbconvert_exporter": "python",
   "pygments_lexer": "ipython3",
   "version": "3.6.5"
  }
 },
 "nbformat": 4,
 "nbformat_minor": 1
}
