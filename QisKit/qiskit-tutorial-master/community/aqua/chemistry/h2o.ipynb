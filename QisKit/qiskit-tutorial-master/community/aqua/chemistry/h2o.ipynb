{
 "cells": [
  {
   "cell_type": "markdown",
   "metadata": {},
   "source": [
    "## _*Qiskit Aqua Chemistry, H2O ground state computation*_\n",
    "\n",
    "This notebook demonstrates how to use Qiskit Aqua Chemistry to compute the ground state energy of a water (H2O) molecule using VQE and UCCSD.\n",
    "\n",
    "This notebook has been written to use the PYSCF chemistry driver. See the PYSCF chemistry driver readme if you need to install the external PySCF library that this driver requires."
   ]
  },
  {
   "cell_type": "code",
   "execution_count": 1,
   "metadata": {},
   "outputs": [],
   "source": [
    "from qiskit_aqua_chemistry import AquaChemistry\n",
    "\n",
    "# Input dictionary to configure Qiskit Aqua Chemistry for the chemistry problem.\n",
    "aqua_chemistry_dict = {\n",
    "    'problem': {'random_seed': 50},\n",
    "    'driver': {'name': 'PYSCF'},\n",
    "    'PYSCF': {'atom': 'O 0.0 0.0 0.0; H 0.757 0.586 0.0; H -0.757 0.586 0.0', 'basis': 'sto-3g'},\n",
    "    'operator': {'name': 'hamiltonian', 'freeze_core': True},\n",
    "    'algorithm': {'name': 'ExactEigensolver'}\n",
    "}"
   ]
  },
  {
   "cell_type": "markdown",
   "metadata": {},
   "source": [
    "With the above input problem dictionary for water we now create an `AquaChemistry` object and call `run` on it passing in the dictionary to get a result. We use ExactEigensolver first as a reference."
   ]
  },
  {
   "cell_type": "code",
   "execution_count": 2,
   "metadata": {},
   "outputs": [],
   "source": [
    "solver = AquaChemistry()\n",
    "result = solver.run(aqua_chemistry_dict)"
   ]
  },
  {
   "cell_type": "markdown",
   "metadata": {},
   "source": [
    "The `run` method returns a result dictionary. Some notable fields include 'energy' which is the computed ground state energy."
   ]
  },
  {
   "cell_type": "code",
   "execution_count": 3,
   "metadata": {},
   "outputs": [
    {
     "name": "stdout",
     "output_type": "stream",
     "text": [
      "Ground state energy: -75.01235928580498\n"
     ]
    }
   ],
   "source": [
    "print('Ground state energy: {}'.format(result['energy']))"
   ]
  },
  {
   "cell_type": "markdown",
   "metadata": {},
   "source": [
    "There is also a 'printable' field containing a complete ready to print readable result"
   ]
  },
  {
   "cell_type": "code",
   "execution_count": 4,
   "metadata": {},
   "outputs": [
    {
     "name": "stdout",
     "output_type": "stream",
     "text": [
      "* Electronic ground state energy: -84.20627244642836\n",
      "  - computed part:      -23.544497240436005\n",
      "  - frozen energy part: -60.661775205992356\n",
      "  - particle hole part: 0.0\n",
      "~ Nuclear repulsion energy: 9.193913160623385\n",
      "> Total ground state energy: -75.01235928580498\n",
      "  Measured:: Num particles: 8.000, S: 0.000, M: 0.00000\n",
      "* Electronic dipole moment: [0.         1.57867263 0.        ]\n",
      "  - computed part:      [0.         1.57778798 0.        ]\n",
      "  - frozen energy part: [0.         0.00088465 0.        ]\n",
      "  - particle hole part: [0. 0. 0.]\n",
      "~ Nuclear dipole moment: [0.         2.21475902 0.        ]\n",
      "> Dipole moment: [0.         0.63608639 0.        ]  Total: 0.6360863875724845\n"
     ]
    }
   ],
   "source": [
    "for line in result['printable']:\n",
    "    print(line)"
   ]
  },
  {
   "cell_type": "markdown",
   "metadata": {},
   "source": [
    "We update the dictionary, for VQE with UCCSD, and run the computation again."
   ]
  },
  {
   "cell_type": "code",
   "execution_count": 5,
   "metadata": {},
   "outputs": [
    {
     "name": "stdout",
     "output_type": "stream",
     "text": [
      "Ground state energy: -75.01136277625662\n",
      "* Electronic ground state energy: -84.20527593688\n",
      "  - computed part:      -23.543500730887647\n",
      "  - frozen energy part: -60.661775205992356\n",
      "  - particle hole part: 0.0\n",
      "~ Nuclear repulsion energy: 9.193913160623385\n",
      "> Total ground state energy: -75.01136277625662\n",
      "  Measured:: Num particles: 8.000, S: 0.002, M: 0.00000\n",
      "* Electronic dipole moment: [-3.30862414e-06  1.57868676e+00 -1.64045876e-05]\n",
      "  - computed part:      [-3.30862414e-06  1.57780210e+00 -1.64045876e-05]\n",
      "  - frozen energy part: [0.         0.00088465 0.        ]\n",
      "  - particle hole part: [0. 0. 0.]\n",
      "~ Nuclear dipole moment: [0.         2.21475902 0.        ]\n",
      "> Dipole moment: [3.30862414e-06 6.36072265e-01 1.64045876e-05]  Total: 0.6360722651436584\n"
     ]
    }
   ],
   "source": [
    "aqua_chemistry_dict['algorithm']['name'] = 'VQE'\n",
    "aqua_chemistry_dict['optimizer'] = {'name': 'COBYLA', 'maxiter': 25000}\n",
    "aqua_chemistry_dict['variational_form'] = {'name': 'UCCSD'}\n",
    "aqua_chemistry_dict['initial_state'] = {'name': 'HartreeFock'}\n",
    "\n",
    "solver = AquaChemistry()\n",
    "result = solver.run(aqua_chemistry_dict)\n",
    "\n",
    "print('Ground state energy: {}'.format(result['energy']))\n",
    "\n",
    "for line in result['printable']:\n",
    "    print(line)"
   ]
  },
  {
   "cell_type": "code",
   "execution_count": 10,
   "metadata": {},
   "outputs": [
    {
     "name": "stdout",
     "output_type": "stream",
     "text": [
      "Actual VQE evaluations taken: 2422\n"
     ]
    }
   ],
   "source": [
    "print('Actual VQE evaluations taken: {}'.format(result['algorithm_retvals']['eval_count']))"
   ]
  },
  {
   "cell_type": "code",
   "execution_count": null,
   "metadata": {},
   "outputs": [],
   "source": []
  }
 ],
 "metadata": {
  "kernelspec": {
   "display_name": "Python 3",
   "language": "python",
   "name": "python3"
  },
  "language_info": {
   "codemirror_mode": {
    "name": "ipython",
    "version": 3
   },
   "file_extension": ".py",
   "mimetype": "text/x-python",
   "name": "python",
   "nbconvert_exporter": "python",
   "pygments_lexer": "ipython3",
   "version": "3.6.1"
  }
 },
 "nbformat": 4,
 "nbformat_minor": 1
}
