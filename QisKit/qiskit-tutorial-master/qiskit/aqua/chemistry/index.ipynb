{
 "cells": [
  {
   "cell_type": "markdown",
   "metadata": {},
   "source": [
    "# Qiskit Aqua Chemistry\n",
    "\n",
    "Aqua Chemistry is a set of tools, algorithms and software for use with quantum computers to carry out research and investigate how to take advantage of the quantum computational power to solve chemistry problems. Qiskit Aqua Chemistry translates chemistry-specific problem inputs into inputs for a quantum algorithm supplied by Qiskit Aqua, which then in turn uses Qiskit Terra for the actual quantum computation.\n",
    "\n",
    "## Contents\n",
    "\n",
    "* [Basic howto Aqua Chemistry](basic_howto.ipynb)\n",
    "* [Advanced howto Aqua Chemistry](advanced_howto.ipynb)\n",
    "* [Quantum Chemistry with VQE](dissociation_profile_of_molecule.ipynb) dissociation curve of H<sub>2</sub> and LiH\n",
    "* More examples can be found in [commuity/aqua/chemistry](../../../community/aqua/chemistry)"
   ]
  },
  {
   "cell_type": "code",
   "execution_count": null,
   "metadata": {
    "collapsed": true
   },
   "outputs": [],
   "source": []
  }
 ],
 "metadata": {
  "kernelspec": {
   "display_name": "quantum-dev",
   "language": "python",
   "name": "quantum-dev"
  },
  "language_info": {
   "codemirror_mode": {
    "name": "ipython",
    "version": 3
   },
   "file_extension": ".py",
   "mimetype": "text/x-python",
   "name": "python",
   "nbconvert_exporter": "python",
   "pygments_lexer": "ipython3",
   "version": "3.6.5"
  }
 },
 "nbformat": 4,
 "nbformat_minor": 2
}
