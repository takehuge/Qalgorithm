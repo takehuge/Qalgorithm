{
 "cells": [
  {
   "cell_type": "markdown",
   "metadata": {},
   "source": [
    "<img src=\"../../images/qiskit-heading.gif\" alt=\"Note: In order for images to show up in this jupyter notebook you need to select File => Trusted Notebook\" width=\"500 px\" align=\"left\">"
   ]
  },
  {
   "cell_type": "markdown",
   "metadata": {},
   "source": [
    "# The IBM Q provider "
   ]
  },
  {
   "cell_type": "markdown",
   "metadata": {},
   "source": [
    "In Qiskit we have an interface for backends and jobs that will be useful for running circuits and extending to third-party backends. In this tutorial, we will review the core components of Qiskit’s base backend framework, using the IBM Q provider as an example.\n",
    "\n",
    "The interface has three parts: the provider, the backend, and the job:\n",
    "\n",
    "- provider: accesses backends and provides backend objects\n",
    "- backend: runs the quantum circuit\n",
    "- job: keeps track of the submitted job"
   ]
  },
  {
   "cell_type": "markdown",
   "metadata": {},
   "source": [
    "## The Provider\n",
    "\n",
    "The IBMQ Provider is an entity that provides access to a group of different backends (for example, backends available through IBM Q Experience or IBM Q Network).\n",
    "\n",
    "The IBMQ provider inherits from BaseProvider and implements the methods:\n",
    "\n",
    "- `backends()`: returns all backend objects known to the provider.\n",
    "- `get_backend(name)`: returns the named backend.\n",
    "\n",
    "The IBM Q provider has some extra functions for handling administrative tasks. The credentials can be saved to disk or used in a session and never saved. \n",
    "\n",
    "- `enable_account(token, url)`: enable an account in the current session\n",
    "- `disable_accounts(**kwargs)`: disable one or more accounts from current session\n",
    "- `save_account(token, url)`: save an account to disk\n",
    "- `delete_accounts(**kwargs)`: delete the account or accounts from disk\n",
    "- `load_accounts(**kwargs)`: load previously-saved account or accounts into session\n",
    "- `active_accounts()`: list all accounts active in this session\n",
    "- `stored_accounts()`: list all accounts saved to disk"
   ]
  },
  {
   "cell_type": "code",
   "execution_count": 1,
   "metadata": {},
   "outputs": [
    {
     "data": {
      "text/plain": [
       "[]"
      ]
     },
     "execution_count": 1,
     "metadata": {},
     "output_type": "execute_result"
    }
   ],
   "source": [
    "from qiskit import IBMQ \n",
    "\n",
    "IBMQ.backends()"
   ]
  },
  {
   "cell_type": "markdown",
   "metadata": {},
   "source": [
    "Here we see that there are no backends. This is because no accounts have been loaded."
   ]
  },
  {
   "cell_type": "markdown",
   "metadata": {},
   "source": [
    "Let's start fresh and delete any accounts on disk. If no accounts are on disk this will error"
   ]
  },
  {
   "cell_type": "code",
   "execution_count": 2,
   "metadata": {},
   "outputs": [],
   "source": [
    "IBMQ.delete_accounts()"
   ]
  },
  {
   "cell_type": "markdown",
   "metadata": {},
   "source": [
    "verify that there are no accounts stored now"
   ]
  },
  {
   "cell_type": "code",
   "execution_count": 3,
   "metadata": {},
   "outputs": [
    {
     "data": {
      "text/plain": [
       "[]"
      ]
     },
     "execution_count": 3,
     "metadata": {},
     "output_type": "execute_result"
    }
   ],
   "source": [
    "IBMQ.stored_accounts()"
   ]
  },
  {
   "cell_type": "markdown",
   "metadata": {},
   "source": [
    "To demonstrate that we can load multiple accounts using the IBMQ provider, here we use two files `Qconfig_IBMQ_experience.py` and `Qconfig_IBMQ_network.py`, which are just containers of the `APItoken` and `URL`.\n",
    "\n",
    "- `APItoken = 'MY_API_TOKEN'`\n",
    "- `URL = 'THE_URL'`\n",
    "\n",
    "For the IBM Q experience the URL is not needed and is loaded by default in `enable_account` and `save_account`. For the IBM Q Network the url is found on your q-console account page. We don't recommend saving and using files like this. We recommend just inputting the `APItoken` and `URL` directly into the methods `enable_account` and `save_account`."
   ]
  },
  {
   "cell_type": "code",
   "execution_count": 4,
   "metadata": {},
   "outputs": [],
   "source": [
    "import Qconfig_IBMQ_network\n",
    "import Qconfig_IBMQ_experience"
   ]
  },
  {
   "cell_type": "markdown",
   "metadata": {},
   "source": [
    "To enable an account (useful for one-off use, or if you don't want to save to disk)"
   ]
  },
  {
   "cell_type": "code",
   "execution_count": 5,
   "metadata": {},
   "outputs": [],
   "source": [
    "IBMQ.enable_account(Qconfig_IBMQ_experience.APItoken)"
   ]
  },
  {
   "cell_type": "markdown",
   "metadata": {},
   "source": [
    "To see that accounts which are enabled for use"
   ]
  },
  {
   "cell_type": "code",
   "execution_count": 6,
   "metadata": {},
   "outputs": [],
   "source": [
    "# uncomment to print to screen (it will show your token and url)\n",
    "# IBMQ.active_accounts()"
   ]
  },
  {
   "cell_type": "markdown",
   "metadata": {},
   "source": [
    "and backends which are available"
   ]
  },
  {
   "cell_type": "code",
   "execution_count": 7,
   "metadata": {},
   "outputs": [
    {
     "data": {
      "text/plain": [
       "[<IBMQBackend('ibmqx4') from IBMQ()>,\n",
       " <IBMQBackend('ibmqx5') from IBMQ()>,\n",
       " <IBMQBackend('ibmqx2') from IBMQ()>,\n",
       " <IBMQBackend('ibmq_16_melbourne') from IBMQ()>,\n",
       " <IBMQBackend('ibmq_qasm_simulator') from IBMQ()>]"
      ]
     },
     "execution_count": 7,
     "metadata": {},
     "output_type": "execute_result"
    }
   ],
   "source": [
    "IBMQ.backends()"
   ]
  },
  {
   "cell_type": "markdown",
   "metadata": {},
   "source": [
    "Disable that account (so we go back to no accounts active)"
   ]
  },
  {
   "cell_type": "code",
   "execution_count": 8,
   "metadata": {},
   "outputs": [],
   "source": [
    "IBMQ.disable_accounts(token=Qconfig_IBMQ_experience.APItoken)"
   ]
  },
  {
   "cell_type": "markdown",
   "metadata": {},
   "source": [
    "Now no backends are available"
   ]
  },
  {
   "cell_type": "code",
   "execution_count": 9,
   "metadata": {},
   "outputs": [
    {
     "data": {
      "text/plain": [
       "[]"
      ]
     },
     "execution_count": 9,
     "metadata": {},
     "output_type": "execute_result"
    }
   ],
   "source": [
    "IBMQ.backends()"
   ]
  },
  {
   "cell_type": "markdown",
   "metadata": {},
   "source": [
    "Save two accounts: a public (IBM Q experience) and a premium (IBM Q network)"
   ]
  },
  {
   "cell_type": "code",
   "execution_count": 10,
   "metadata": {},
   "outputs": [],
   "source": [
    "IBMQ.save_account(Qconfig_IBMQ_experience.APItoken)\n",
    "IBMQ.save_account(Qconfig_IBMQ_network.APItoken, Qconfig_IBMQ_network.url)"
   ]
  },
  {
   "cell_type": "markdown",
   "metadata": {},
   "source": [
    "Now they should show up as present on disk"
   ]
  },
  {
   "cell_type": "code",
   "execution_count": 11,
   "metadata": {},
   "outputs": [],
   "source": [
    "# uncomment to print to screen (it will show your token and url)\n",
    "# IBMQ.stored_accounts()"
   ]
  },
  {
   "cell_type": "markdown",
   "metadata": {},
   "source": [
    "but no account active in current session yet"
   ]
  },
  {
   "cell_type": "code",
   "execution_count": 12,
   "metadata": {},
   "outputs": [
    {
     "data": {
      "text/plain": [
       "[]"
      ]
     },
     "execution_count": 12,
     "metadata": {},
     "output_type": "execute_result"
    }
   ],
   "source": [
    "IBMQ.active_accounts()"
   ]
  },
  {
   "cell_type": "markdown",
   "metadata": {},
   "source": [
    "so IBMQ can't see any backends yet"
   ]
  },
  {
   "cell_type": "code",
   "execution_count": 13,
   "metadata": {},
   "outputs": [
    {
     "data": {
      "text/plain": [
       "[]"
      ]
     },
     "execution_count": 13,
     "metadata": {},
     "output_type": "execute_result"
    }
   ],
   "source": [
    "IBMQ.backends()"
   ]
  },
  {
   "cell_type": "markdown",
   "metadata": {},
   "source": [
    "now load up every account stored to disk"
   ]
  },
  {
   "cell_type": "code",
   "execution_count": 14,
   "metadata": {},
   "outputs": [],
   "source": [
    "IBMQ.load_accounts()"
   ]
  },
  {
   "cell_type": "markdown",
   "metadata": {},
   "source": [
    "backends from two different accounts available for use"
   ]
  },
  {
   "cell_type": "code",
   "execution_count": 15,
   "metadata": {},
   "outputs": [
    {
     "data": {
      "text/plain": [
       "[<IBMQBackend('ibmqx4') from IBMQ()>,\n",
       " <IBMQBackend('ibmqx5') from IBMQ()>,\n",
       " <IBMQBackend('ibmqx2') from IBMQ()>,\n",
       " <IBMQBackend('ibmq_16_melbourne') from IBMQ()>,\n",
       " <IBMQBackend('ibmq_qasm_simulator') from IBMQ()>,\n",
       " <IBMQBackend('ibmq_20_tokyo') from IBMQ(ibm-q-internal, qiskit, qiskit-terra)>,\n",
       " <IBMQBackend('ibmq_qasm_simulator') from IBMQ(ibm-q-internal, qiskit, qiskit-terra)>]"
      ]
     },
     "execution_count": 15,
     "metadata": {},
     "output_type": "execute_result"
    }
   ],
   "source": [
    "IBMQ.backends()"
   ]
  },
  {
   "cell_type": "markdown",
   "metadata": {},
   "source": [
    "now if you want to work with backends of a single account,\n",
    "you can do so via account filtering"
   ]
  },
  {
   "cell_type": "code",
   "execution_count": 16,
   "metadata": {},
   "outputs": [
    {
     "data": {
      "text/plain": [
       "[<IBMQBackend('ibmq_20_tokyo') from IBMQ(ibm-q-internal, qiskit, qiskit-terra)>,\n",
       " <IBMQBackend('ibmq_qasm_simulator') from IBMQ(ibm-q-internal, qiskit, qiskit-terra)>]"
      ]
     },
     "execution_count": 16,
     "metadata": {},
     "output_type": "execute_result"
    }
   ],
   "source": [
    "IBMQ.backends(hub='ibm-q-internal')"
   ]
  },
  {
   "cell_type": "markdown",
   "metadata": {},
   "source": [
    "but you can also just disable account in the current session"
   ]
  },
  {
   "cell_type": "code",
   "execution_count": 17,
   "metadata": {},
   "outputs": [],
   "source": [
    "IBMQ.disable_accounts(hub='ibm-q-internal')"
   ]
  },
  {
   "cell_type": "markdown",
   "metadata": {},
   "source": [
    "so now only one account is active"
   ]
  },
  {
   "cell_type": "code",
   "execution_count": 18,
   "metadata": {},
   "outputs": [],
   "source": [
    "# uncomment to print to screen (it will show your token and url)\n",
    "# IBMQ.active_accounts()"
   ]
  },
  {
   "cell_type": "markdown",
   "metadata": {},
   "source": [
    "and only that account's backends are available"
   ]
  },
  {
   "cell_type": "code",
   "execution_count": 19,
   "metadata": {},
   "outputs": [
    {
     "data": {
      "text/plain": [
       "[<IBMQBackend('ibmqx4') from IBMQ()>,\n",
       " <IBMQBackend('ibmqx5') from IBMQ()>,\n",
       " <IBMQBackend('ibmqx2') from IBMQ()>,\n",
       " <IBMQBackend('ibmq_16_melbourne') from IBMQ()>,\n",
       " <IBMQBackend('ibmq_qasm_simulator') from IBMQ()>]"
      ]
     },
     "execution_count": 19,
     "metadata": {},
     "output_type": "execute_result"
    }
   ],
   "source": [
    "IBMQ.backends()"
   ]
  },
  {
   "cell_type": "markdown",
   "metadata": {},
   "source": [
    "or from the start use the filtering to just load up that account you're interested in"
   ]
  },
  {
   "cell_type": "code",
   "execution_count": 20,
   "metadata": {},
   "outputs": [
    {
     "data": {
      "text/plain": [
       "[<IBMQBackend('ibmqx4') from IBMQ()>,\n",
       " <IBMQBackend('ibmqx5') from IBMQ()>,\n",
       " <IBMQBackend('ibmqx2') from IBMQ()>,\n",
       " <IBMQBackend('ibmq_16_melbourne') from IBMQ()>,\n",
       " <IBMQBackend('ibmq_qasm_simulator') from IBMQ()>]"
      ]
     },
     "execution_count": 20,
     "metadata": {},
     "output_type": "execute_result"
    }
   ],
   "source": [
    "IBMQ.disable_accounts()\n",
    "IBMQ.load_accounts(hub=None)\n",
    "IBMQ.backends()"
   ]
  },
  {
   "cell_type": "markdown",
   "metadata": {},
   "source": [
    "## Filtering the backends\n",
    "\n",
    "You may also optionally filter the set of returned backends, by passing arguments that query the backend's `configuration` or `status` or `properties`. The filters are passed by conditions and for more general filters you can make advanced functions using the lambda function.\n",
    "\n",
    "As a first example: only return currently operational devices"
   ]
  },
  {
   "cell_type": "code",
   "execution_count": 21,
   "metadata": {},
   "outputs": [
    {
     "data": {
      "text/plain": [
       "[<IBMQBackend('ibmqx4') from IBMQ()>,\n",
       " <IBMQBackend('ibmq_16_melbourne') from IBMQ()>]"
      ]
     },
     "execution_count": 21,
     "metadata": {},
     "output_type": "execute_result"
    }
   ],
   "source": [
    "IBMQ.backends(operational=True, simulator=False)"
   ]
  },
  {
   "cell_type": "markdown",
   "metadata": {},
   "source": [
    "only return backends that are real devices, have more than 10 qubits and are operational"
   ]
  },
  {
   "cell_type": "code",
   "execution_count": 22,
   "metadata": {},
   "outputs": [
    {
     "data": {
      "text/plain": [
       "[<IBMQBackend('ibmqx4') from IBMQ()>]"
      ]
     },
     "execution_count": 22,
     "metadata": {},
     "output_type": "execute_result"
    }
   ],
   "source": [
    "IBMQ.backends(filters=lambda x: x.configuration()['n_qubits'] <= 5 and \n",
    "              not x.configuration()['simulator'] and x.status()['operational']==True)"
   ]
  },
  {
   "cell_type": "markdown",
   "metadata": {},
   "source": [
    "Filter: show the least busy device (in terms of pending jobs in the queue)"
   ]
  },
  {
   "cell_type": "code",
   "execution_count": 23,
   "metadata": {},
   "outputs": [
    {
     "data": {
      "text/plain": [
       "<IBMQBackend('ibmqx4') from IBMQ()>"
      ]
     },
     "execution_count": 23,
     "metadata": {},
     "output_type": "execute_result"
    }
   ],
   "source": [
    "from qiskit.backends.ibmq import least_busy\n",
    "\n",
    "small_devices = IBMQ.backends(filters=lambda x: x.configuration()['n_qubits'] <= 5 and\n",
    "                                                       not x.configuration()['simulator'])\n",
    "least_busy(small_devices)"
   ]
  },
  {
   "cell_type": "markdown",
   "metadata": {},
   "source": [
    "The above filters can be combined as desired.\n",
    "\n",
    "If you just want to get an instance of a particular backend, you can use the `get_backend()` method."
   ]
  },
  {
   "cell_type": "code",
   "execution_count": 24,
   "metadata": {},
   "outputs": [
    {
     "data": {
      "text/plain": [
       "<IBMQBackend('ibmq_16_melbourne') from IBMQ()>"
      ]
     },
     "execution_count": 24,
     "metadata": {},
     "output_type": "execute_result"
    }
   ],
   "source": [
    "IBMQ.get_backend('ibmq_16_melbourne')"
   ]
  },
  {
   "cell_type": "markdown",
   "metadata": {},
   "source": [
    "## The backend\n",
    "\n",
    "Backends represent either a simulator or a real quantum computer, and are responsible for running quantum circuits and returning results. They have a `run` method which takes in a `qobj` as input, which is a quantum object and the result of the compilation process, and returns a BaseJob object. This object allows asynchronous running of jobs for retrieving results from a backend when the job is completed.\n",
    "\n",
    "At a minimum, backends use the following methods, inherited from BaseBackend:\n",
    "\n",
    "\n",
    "- `provider` - returns the provider of the backend\n",
    "- `name()` - gets the name of the backend.\n",
    "- `status()` - gets the status of the backend.\n",
    "- `configuration()` - gets the configuration of the backend.\n",
    "- `properties()` -  gets the properties of the backend.\n",
    "- `run()` - runs a qobj on the backend.\n",
    "\n",
    "For remote backends they must support the additional\n",
    "\n",
    "- `jobs()`  -  returns a list of previous jobs executed by this user on this backend.\n",
    "- `retrieve_job()` - returns a job by a job_id.\n",
    "\n",
    "In future updates they will introduce the following commands\n",
    "\n",
    "- `defaults()` - gives a data structure of typical default parameters.\n",
    "- `schema()` - gets a schema for the backend\n",
    "\n",
    "There are some IBMQ only functions \n",
    "\n",
    "- `hub`  - returns the IBMQ hub for this backend.\n",
    "- `group` - returns the IBMQ group for this backend.\n",
    "- `project` - returns the IBMQ project for this backend."
   ]
  },
  {
   "cell_type": "code",
   "execution_count": 25,
   "metadata": {},
   "outputs": [],
   "source": [
    "backend = least_busy(small_devices)"
   ]
  },
  {
   "cell_type": "markdown",
   "metadata": {},
   "source": [
    "Let's start with the `backend.provider`, which returns a provider object"
   ]
  },
  {
   "cell_type": "code",
   "execution_count": 26,
   "metadata": {},
   "outputs": [
    {
     "data": {
      "text/plain": [
       "<qiskit.backends.ibmq.ibmqprovider.IBMQProvider at 0x10e62cfd0>"
      ]
     },
     "execution_count": 26,
     "metadata": {},
     "output_type": "execute_result"
    }
   ],
   "source": [
    "backend.provider"
   ]
  },
  {
   "cell_type": "markdown",
   "metadata": {},
   "source": [
    "Next is the `name()`, which returns the name of the backend"
   ]
  },
  {
   "cell_type": "code",
   "execution_count": 27,
   "metadata": {},
   "outputs": [
    {
     "data": {
      "text/plain": [
       "'ibmqx4'"
      ]
     },
     "execution_count": 27,
     "metadata": {},
     "output_type": "execute_result"
    }
   ],
   "source": [
    "backend.name()"
   ]
  },
  {
   "cell_type": "markdown",
   "metadata": {},
   "source": [
    "Next let's look at the `status()`:\n",
    "\n",
    "    operational lets you know that the backend is taking jobs\n",
    "    pending_jobs lets you know how many jobs are in the queue"
   ]
  },
  {
   "cell_type": "code",
   "execution_count": 28,
   "metadata": {},
   "outputs": [
    {
     "data": {
      "text/plain": [
       "{'pending_jobs': 6, 'name': 'ibmqx4', 'operational': True}"
      ]
     },
     "execution_count": 28,
     "metadata": {},
     "output_type": "execute_result"
    }
   ],
   "source": [
    "backend.status()"
   ]
  },
  {
   "cell_type": "markdown",
   "metadata": {},
   "source": [
    "The next is `configuration()`"
   ]
  },
  {
   "cell_type": "code",
   "execution_count": 29,
   "metadata": {
    "ExecuteTime": {
     "end_time": "2018-09-26T14:38:43.707148Z",
     "start_time": "2018-09-26T14:38:43.696135Z"
    }
   },
   "outputs": [
    {
     "data": {
      "text/plain": [
       "{'local': False,\n",
       " 'name': 'ibmqx4',\n",
       " 'version': '1.2.0',\n",
       " 'description': '5 qubit transmon bowtie chip 3',\n",
       " 'gate_set': 'SU2+CNOT',\n",
       " 'basis_gates': 'u1,u2,u3,cx,id',\n",
       " 'online_date': '2017-09-18T00:00:00.000Z',\n",
       " 'chip_name': 'Raven',\n",
       " 'deleted': False,\n",
       " 'url': 'https://ibm.biz/qiskit-ibmqx4',\n",
       " 'internal_id': '5ae875670f020500393162b3',\n",
       " 'simulator': False,\n",
       " 'allow_q_object': False,\n",
       " 'n_qubits': 5,\n",
       " 'coupling_map': [[1, 0], [2, 0], [2, 1], [3, 2], [3, 4], [4, 2]]}"
      ]
     },
     "execution_count": 29,
     "metadata": {},
     "output_type": "execute_result"
    }
   ],
   "source": [
    "backend.configuration()"
   ]
  },
  {
   "cell_type": "markdown",
   "metadata": {},
   "source": [
    "The next is `properties()` method"
   ]
  },
  {
   "cell_type": "code",
   "execution_count": 30,
   "metadata": {
    "ExecuteTime": {
     "end_time": "2018-09-26T14:39:02.682614Z",
     "start_time": "2018-09-26T14:38:54.191129Z"
    }
   },
   "outputs": [
    {
     "data": {
      "text/plain": [
       "{'last_update_date': '2018-11-12T02:56:39.000Z',\n",
       " 'qubits': [{'gateError': {'date': '2018-11-12T02:56:39Z',\n",
       "    'value': 0.0011160854878761173},\n",
       "   'name': 'Q0',\n",
       "   'readoutError': {'date': '2018-11-12T02:56:39Z', 'value': 0.073},\n",
       "   'buffer': {'date': '2018-11-12T02:56:39Z', 'value': 10, 'unit': 'ns'},\n",
       "   'gateTime': {'date': '2018-11-12T02:56:39Z', 'value': 60, 'unit': 'ns'},\n",
       "   'T2': {'date': '2018-11-12T02:56:39Z', 'value': 32.8, 'unit': 'µs'},\n",
       "   'T1': {'date': '2018-11-12T02:56:39Z', 'value': 44.6, 'unit': 'µs'},\n",
       "   'frequency': {'date': '2018-11-12T02:56:39Z',\n",
       "    'value': 5.24987,\n",
       "    'unit': 'GHz'}},\n",
       "  {'gateError': {'date': '2018-11-12T02:56:39Z', 'value': 0.00128782749692391},\n",
       "   'name': 'Q1',\n",
       "   'readoutError': {'date': '2018-11-12T02:56:39Z', 'value': 0.073},\n",
       "   'buffer': {'date': '2018-11-12T02:56:39Z', 'value': 10, 'unit': 'ns'},\n",
       "   'gateTime': {'date': '2018-11-12T02:56:39Z', 'value': 60, 'unit': 'ns'},\n",
       "   'T2': {'date': '2018-11-12T02:56:39Z', 'value': 20.1, 'unit': 'µs'},\n",
       "   'T1': {'date': '2018-11-12T02:56:39Z', 'value': 34.2, 'unit': 'µs'},\n",
       "   'frequency': {'date': '2018-11-12T02:56:39Z',\n",
       "    'value': 5.29577,\n",
       "    'unit': 'GHz'}},\n",
       "  {'gateError': {'date': '2018-11-12T02:56:39Z',\n",
       "    'value': 0.001631340796924452},\n",
       "   'name': 'Q2',\n",
       "   'readoutError': {'date': '2018-11-12T02:56:39Z', 'value': 0.033},\n",
       "   'buffer': {'date': '2018-11-12T02:56:39Z', 'value': 10, 'unit': 'ns'},\n",
       "   'gateTime': {'date': '2018-11-12T02:56:39Z', 'value': 60, 'unit': 'ns'},\n",
       "   'T2': {'date': '2018-11-12T02:56:39Z', 'value': 27.4, 'unit': 'µs'},\n",
       "   'T1': {'date': '2018-11-12T02:56:39Z', 'value': 38, 'unit': 'µs'},\n",
       "   'frequency': {'date': '2018-11-12T02:56:39Z',\n",
       "    'value': 5.35326,\n",
       "    'unit': 'GHz'}},\n",
       "  {'gateError': {'date': '2018-11-12T02:56:39Z',\n",
       "    'value': 0.002232583111384412},\n",
       "   'name': 'Q3',\n",
       "   'readoutError': {'date': '2018-11-12T02:56:39Z', 'value': 0.026},\n",
       "   'buffer': {'date': '2018-11-12T02:56:39Z', 'value': 10, 'unit': 'ns'},\n",
       "   'gateTime': {'date': '2018-11-12T02:56:39Z', 'value': 60, 'unit': 'ns'},\n",
       "   'T2': {'date': '2018-11-12T02:56:39Z', 'value': 12.4, 'unit': 'µs'},\n",
       "   'T1': {'date': '2018-11-12T02:56:39Z', 'value': 41.2, 'unit': 'µs'},\n",
       "   'frequency': {'date': '2018-11-12T02:56:39Z',\n",
       "    'value': 5.43497,\n",
       "    'unit': 'GHz'}},\n",
       "  {'gateError': {'date': '2018-11-12T02:56:39Z',\n",
       "    'value': 0.0013737021608475342},\n",
       "   'name': 'Q4',\n",
       "   'readoutError': {'date': '2018-11-12T02:56:39Z', 'value': 0.056},\n",
       "   'buffer': {'date': '2018-11-12T02:56:39Z', 'value': 10, 'unit': 'ns'},\n",
       "   'gateTime': {'date': '2018-11-12T02:56:39Z', 'value': 60, 'unit': 'ns'},\n",
       "   'T2': {'date': '2018-11-12T02:56:39Z', 'value': 12, 'unit': 'µs'},\n",
       "   'T1': {'date': '2018-11-12T02:56:39Z', 'value': 50.3, 'unit': 'µs'},\n",
       "   'frequency': {'date': '2018-11-12T02:56:39Z',\n",
       "    'value': 5.17582,\n",
       "    'unit': 'GHz'}}],\n",
       " 'multi_qubit_gates': [{'qubits': [1, 0],\n",
       "   'type': 'CX',\n",
       "   'gateError': {'date': '2018-11-12T02:56:39Z',\n",
       "    'value': 0.039730922592824625},\n",
       "   'name': 'CX1_0'},\n",
       "  {'qubits': [2, 0],\n",
       "   'type': 'CX',\n",
       "   'gateError': {'date': '2018-11-12T02:56:39Z', 'value': 0.0370616990430509},\n",
       "   'name': 'CX2_0'},\n",
       "  {'qubits': [2, 1],\n",
       "   'type': 'CX',\n",
       "   'gateError': {'date': '2018-11-12T02:56:39Z',\n",
       "    'value': 0.039182981129817634},\n",
       "   'name': 'CX2_1'},\n",
       "  {'qubits': [3, 2],\n",
       "   'type': 'CX',\n",
       "   'gateError': {'date': '2018-11-12T02:56:39Z', 'value': 0.06468197586341454},\n",
       "   'name': 'CX3_2'},\n",
       "  {'qubits': [3, 4],\n",
       "   'type': 'CX',\n",
       "   'gateError': {'date': '2018-11-12T02:56:39Z', 'value': 0.0472178292725369},\n",
       "   'name': 'CX3_4'},\n",
       "  {'qubits': [4, 2],\n",
       "   'type': 'CX',\n",
       "   'gateError': {'date': '2018-11-12T02:56:39Z', 'value': 0.06971263047107376},\n",
       "   'name': 'CX4_2'}],\n",
       " 'backend': 'ibmqx4',\n",
       " 'fridge_parameters': {'cooldownDate': '2017-09-07',\n",
       "  'Temperature': {'date': '-', 'value': [], 'unit': '-'}}}"
      ]
     },
     "execution_count": 30,
     "metadata": {},
     "output_type": "execute_result"
    }
   ],
   "source": [
    "backend.properties()"
   ]
  },
  {
   "cell_type": "markdown",
   "metadata": {},
   "source": [
    "The next is `hub`, `group`, and `project`. For the IBM Q experience these will return `None`"
   ]
  },
  {
   "cell_type": "code",
   "execution_count": 31,
   "metadata": {},
   "outputs": [],
   "source": [
    "backend.hub"
   ]
  },
  {
   "cell_type": "code",
   "execution_count": 32,
   "metadata": {},
   "outputs": [],
   "source": [
    "backend.group"
   ]
  },
  {
   "cell_type": "code",
   "execution_count": 33,
   "metadata": {},
   "outputs": [],
   "source": [
    "backend.project"
   ]
  },
  {
   "cell_type": "markdown",
   "metadata": {},
   "source": [
    "To see your last 5 jobs ran on the backend use the `jobs()` method of that backend"
   ]
  },
  {
   "cell_type": "code",
   "execution_count": 34,
   "metadata": {},
   "outputs": [
    {
     "name": "stdout",
     "output_type": "stream",
     "text": [
      "5be8f39c54dacb0059c2b0db JobStatus.DONE\n",
      "5be8f394afd471005540d4d7 JobStatus.CANCELLED\n",
      "5be8ae5e17436b0052751909 JobStatus.DONE\n",
      "5be748a7e00f60005ad7f23d JobStatus.DONE\n",
      "5be746e3d4d36f0054595d60 JobStatus.DONE\n"
     ]
    }
   ],
   "source": [
    "for ran_job in backend.jobs(limit=5):\n",
    "    print(str(ran_job.job_id()) + \" \" + str(ran_job.status()))"
   ]
  },
  {
   "cell_type": "markdown",
   "metadata": {},
   "source": [
    "Then the job can be retreived using `retrieve_job(job_id())` method"
   ]
  },
  {
   "cell_type": "code",
   "execution_count": 35,
   "metadata": {},
   "outputs": [],
   "source": [
    "job = backend.retrieve_job(ran_job.job_id())"
   ]
  },
  {
   "cell_type": "markdown",
   "metadata": {},
   "source": [
    "## The Job object\n",
    "\n",
    "Job instances can be thought of as the “ticket” for a submitted job. They find out the execution’s state at a given point in time (for example, if the job is queued, running, or has failed) and also allow control over the job. They have the following methods:\n",
    "\n",
    "- `status()` - returns the status of the job.\n",
    "- `backend()` - returns the backend the job was run on.\n",
    "- `job_id()` - gets the job_id.\n",
    "- `cancel()` - cancels the job.\n",
    "- `result()` - gets the results from the circuit run.\n",
    "\n",
    "IBMQ only functions \n",
    "\n",
    "- `creation_date()` - gives the date at which the job was created.\n",
    "- `queue_position()` - gives the position of the job in the queue.\n",
    "- `error_message()` - gives the error message of failed jobs."
   ]
  },
  {
   "cell_type": "markdown",
   "metadata": {},
   "source": [
    "Let's start with the `status()`. This returns the job status and a message"
   ]
  },
  {
   "cell_type": "code",
   "execution_count": 36,
   "metadata": {},
   "outputs": [
    {
     "data": {
      "text/plain": [
       "<JobStatus.DONE: 'job has successfully run'>"
      ]
     },
     "execution_count": 36,
     "metadata": {},
     "output_type": "execute_result"
    }
   ],
   "source": [
    "job.status()"
   ]
  },
  {
   "cell_type": "markdown",
   "metadata": {},
   "source": [
    "To get a backend object from the job use the `backend()` method"
   ]
  },
  {
   "cell_type": "code",
   "execution_count": 37,
   "metadata": {},
   "outputs": [
    {
     "data": {
      "text/plain": [
       "<IBMQBackend('ibmqx4') from IBMQ()>"
      ]
     },
     "execution_count": 37,
     "metadata": {},
     "output_type": "execute_result"
    }
   ],
   "source": [
    "backend_temp = job.backend()\n",
    "backend_temp"
   ]
  },
  {
   "cell_type": "markdown",
   "metadata": {},
   "source": [
    "To get the job_id use the `job_id()` method"
   ]
  },
  {
   "cell_type": "code",
   "execution_count": 38,
   "metadata": {},
   "outputs": [
    {
     "data": {
      "text/plain": [
       "'5be746e3d4d36f0054595d60'"
      ]
     },
     "execution_count": 38,
     "metadata": {},
     "output_type": "execute_result"
    }
   ],
   "source": [
    "job.job_id()"
   ]
  },
  {
   "cell_type": "markdown",
   "metadata": {},
   "source": [
    "To get the result from the job use the `result()` method"
   ]
  },
  {
   "cell_type": "code",
   "execution_count": 39,
   "metadata": {},
   "outputs": [
    {
     "name": "stdout",
     "output_type": "stream",
     "text": [
      "{'000': 387, '001': 23, '010': 39, '011': 22, '100': 30, '101': 59, '110': 62, '111': 402}\n"
     ]
    }
   ],
   "source": [
    "result = job.result()\n",
    "counts = result.get_counts()\n",
    "print(counts)"
   ]
  },
  {
   "cell_type": "markdown",
   "metadata": {},
   "source": [
    "If you want to check the creation date use `creation_date()`"
   ]
  },
  {
   "cell_type": "code",
   "execution_count": 40,
   "metadata": {},
   "outputs": [
    {
     "data": {
      "text/plain": [
       "'2018-11-10T21:00:19.795Z'"
      ]
     },
     "execution_count": 40,
     "metadata": {},
     "output_type": "execute_result"
    }
   ],
   "source": [
    "job.creation_date()"
   ]
  },
  {
   "cell_type": "markdown",
   "metadata": {},
   "source": [
    "Let's make an active example"
   ]
  },
  {
   "cell_type": "code",
   "execution_count": 41,
   "metadata": {},
   "outputs": [],
   "source": [
    "from qiskit import QuantumCircuit, ClassicalRegister, QuantumRegister\n",
    "from qiskit import compile"
   ]
  },
  {
   "cell_type": "code",
   "execution_count": 42,
   "metadata": {
    "ExecuteTime": {
     "end_time": "2018-09-26T14:39:13.343626Z",
     "start_time": "2018-09-26T14:39:13.334395Z"
    }
   },
   "outputs": [
    {
     "data": {
      "text/plain": [
       "<qiskit._instructionset.InstructionSet at 0x10ffb5240>"
      ]
     },
     "execution_count": 42,
     "metadata": {},
     "output_type": "execute_result"
    }
   ],
   "source": [
    "qr = QuantumRegister(3)\n",
    "cr = ClassicalRegister(3)\n",
    "circuit = QuantumCircuit(qr, cr)\n",
    "circuit.x(qr[0])\n",
    "circuit.x(qr[1])\n",
    "circuit.ccx(qr[0], qr[1], qr[2])\n",
    "circuit.cx(qr[0], qr[1])\n",
    "circuit.measure(qr, cr)"
   ]
  },
  {
   "cell_type": "markdown",
   "metadata": {},
   "source": [
    "To compile this circuit for the backend use the compile function. It will make a qobj (quantum object) that can be run on the backend using the `run(qobj)` method. "
   ]
  },
  {
   "cell_type": "code",
   "execution_count": 43,
   "metadata": {},
   "outputs": [],
   "source": [
    "qobj = compile(circuit, backend=backend, shots=1024)\n",
    "job = backend.run(qobj)"
   ]
  },
  {
   "cell_type": "markdown",
   "metadata": {},
   "source": [
    "The status of this job can be checked with the `status()` method"
   ]
  },
  {
   "cell_type": "code",
   "execution_count": 44,
   "metadata": {},
   "outputs": [
    {
     "data": {
      "text/plain": [
       "<JobStatus.QUEUED: 'job is queued'>"
      ]
     },
     "execution_count": 44,
     "metadata": {},
     "output_type": "execute_result"
    }
   ],
   "source": [
    "job.status()"
   ]
  },
  {
   "cell_type": "markdown",
   "metadata": {},
   "source": [
    "If you made a mistake and need to cancel the job use the `cancel()` method."
   ]
  },
  {
   "cell_type": "code",
   "execution_count": 45,
   "metadata": {},
   "outputs": [
    {
     "data": {
      "text/plain": [
       "True"
      ]
     },
     "execution_count": 45,
     "metadata": {},
     "output_type": "execute_result"
    }
   ],
   "source": [
    "import time\n",
    "#time.sleep(10)\n",
    "\n",
    "job.cancel()"
   ]
  },
  {
   "cell_type": "markdown",
   "metadata": {},
   "source": [
    "The `status()` will show that the job cancelled. "
   ]
  },
  {
   "cell_type": "code",
   "execution_count": 46,
   "metadata": {},
   "outputs": [
    {
     "data": {
      "text/plain": [
       "<JobStatus.CANCELLED: 'job has been cancelled'>"
      ]
     },
     "execution_count": 46,
     "metadata": {},
     "output_type": "execute_result"
    }
   ],
   "source": [
    "job.status()"
   ]
  },
  {
   "cell_type": "markdown",
   "metadata": {},
   "source": [
    "To rerun the job and set up a loop to check the status and queue position you can use the `queue_position()` method. "
   ]
  },
  {
   "cell_type": "code",
   "execution_count": 47,
   "metadata": {
    "ExecuteTime": {
     "end_time": "2018-09-26T14:39:14.902205Z",
     "start_time": "2018-09-26T14:39:14.898287Z"
    }
   },
   "outputs": [],
   "source": [
    "job = backend.run(qobj)"
   ]
  },
  {
   "cell_type": "code",
   "execution_count": 48,
   "metadata": {},
   "outputs": [
    {
     "name": "stdout",
     "output_type": "stream",
     "text": [
      "Status @ 0 seconds\n",
      "JobStatus.INITIALIZING\n",
      "None\n",
      "JobStatus.DONE\n"
     ]
    }
   ],
   "source": [
    "lapse = 0\n",
    "interval = 60\n",
    "while job.status().name != 'DONE':\n",
    "    print('Status @ {} seconds'.format(interval * lapse))\n",
    "    print(job.status())\n",
    "    print(job.queue_position())\n",
    "    time.sleep(interval)\n",
    "    lapse += 1\n",
    "print(job.status())\n",
    "result = job.result()"
   ]
  },
  {
   "cell_type": "code",
   "execution_count": 49,
   "metadata": {},
   "outputs": [
    {
     "name": "stdout",
     "output_type": "stream",
     "text": [
      "{'000': 37, '001': 155, '010': 55, '011': 50, '100': 86, '101': 582, '110': 20, '111': 39}\n"
     ]
    }
   ],
   "source": [
    "counts = result.get_counts()\n",
    "print(counts)"
   ]
  },
  {
   "cell_type": "code",
   "execution_count": null,
   "metadata": {},
   "outputs": [],
   "source": []
  }
 ],
 "metadata": {
  "anaconda-cloud": {},
  "kernelspec": {
   "display_name": "Python 3",
   "language": "python",
   "name": "python3"
  },
  "language_info": {
   "codemirror_mode": {
    "name": "ipython",
    "version": 3
   },
   "file_extension": ".py",
   "mimetype": "text/x-python",
   "name": "python",
   "nbconvert_exporter": "python",
   "pygments_lexer": "ipython3",
   "version": "3.7.1"
  }
 },
 "nbformat": 4,
 "nbformat_minor": 2
}
